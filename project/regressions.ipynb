{
 "cells": [
  {
   "cell_type": "code",
   "execution_count": 2,
   "id": "ea0a9daf",
   "metadata": {},
   "outputs": [],
   "source": [
    "import pandas as pd\n",
    "import re\n",
    "from itertools import chain\n",
    "from tqdm.auto import tqdm\n",
    "from transformers import pipeline\n",
    "from datasets import Dataset  # HuggingFace dataset\n",
    "import numpy as np\n",
    "import matplotlib.pyplot as plt\n",
    "import nasdaqdatalink\n",
    "import os\n",
    "from dotenv import load_dotenv\n",
    "load_dotenv()\n",
    "API_KEY= os.getenv('API_KEY')\n",
    "nasdaqdatalink.ApiConfig.api_key = API_KEY"
   ]
  },
  {
   "cell_type": "code",
   "execution_count": 3,
   "id": "77a0fd7b",
   "metadata": {},
   "outputs": [
    {
     "data": {
      "text/html": [
       "<div>\n",
       "<style scoped>\n",
       "    .dataframe tbody tr th:only-of-type {\n",
       "        vertical-align: middle;\n",
       "    }\n",
       "\n",
       "    .dataframe tbody tr th {\n",
       "        vertical-align: top;\n",
       "    }\n",
       "\n",
       "    .dataframe thead th {\n",
       "        text-align: right;\n",
       "    }\n",
       "</style>\n",
       "<table border=\"1\" class=\"dataframe\">\n",
       "  <thead>\n",
       "    <tr style=\"text-align: right;\">\n",
       "      <th></th>\n",
       "      <th>date</th>\n",
       "      <th>text</th>\n",
       "    </tr>\n",
       "  </thead>\n",
       "  <tbody>\n",
       "    <tr>\n",
       "      <th>0</th>\n",
       "      <td>2025-05-17 10:27:00</td>\n",
       "      <td>Walmart should STOP trying to blame Tariffs as...</td>\n",
       "    </tr>\n",
       "    <tr>\n",
       "      <th>1</th>\n",
       "      <td>2025-05-09 08:43:00</td>\n",
       "      <td>Many Trade Deals in the hopper, all good (GREA...</td>\n",
       "    </tr>\n",
       "    <tr>\n",
       "      <th>2</th>\n",
       "      <td>2025-05-02 12:08:00</td>\n",
       "      <td>Maria Bartiromo: “As President Trump would say...</td>\n",
       "    </tr>\n",
       "    <tr>\n",
       "      <th>3</th>\n",
       "      <td>2025-04-30 09:13:00</td>\n",
       "      <td>This is Biden’s Stock Market, not Trump’s. I d...</td>\n",
       "    </tr>\n",
       "    <tr>\n",
       "      <th>4</th>\n",
       "      <td>2025-04-17 08:02:00</td>\n",
       "      <td>Had a very productive call with the President ...</td>\n",
       "    </tr>\n",
       "  </tbody>\n",
       "</table>\n",
       "</div>"
      ],
      "text/plain": [
       "                 date                                               text\n",
       "0 2025-05-17 10:27:00  Walmart should STOP trying to blame Tariffs as...\n",
       "1 2025-05-09 08:43:00  Many Trade Deals in the hopper, all good (GREA...\n",
       "2 2025-05-02 12:08:00  Maria Bartiromo: “As President Trump would say...\n",
       "3 2025-04-30 09:13:00  This is Biden’s Stock Market, not Trump’s. I d...\n",
       "4 2025-04-17 08:02:00  Had a very productive call with the President ..."
      ]
     },
     "execution_count": 3,
     "metadata": {},
     "output_type": "execute_result"
    }
   ],
   "source": [
    "combined = pd.read_csv('trump_truths_filtered.csv')\n",
    "combined.rename(columns={'body_clean':'text', 'timestamp':'date'}, inplace=True)\n",
    "combined['date'] = pd.to_datetime(combined['date'], format='%Y-%m-%d %H:%M:%S')\n",
    "combined.drop(columns=['header_raw', 'market_related', 'body'], inplace=True)\n",
    "combined.head()"
   ]
  },
  {
   "cell_type": "code",
   "execution_count": 5,
   "id": "98f961a7",
   "metadata": {},
   "outputs": [
    {
     "data": {
      "application/vnd.jupyter.widget-view+json": {
       "model_id": "9761e84177d04257ae16f727cdc6e41d",
       "version_major": 2,
       "version_minor": 0
      },
      "text/plain": [
       "config.json:   0%|          | 0.00/758 [00:00<?, ?B/s]"
      ]
     },
     "metadata": {},
     "output_type": "display_data"
    },
    {
     "data": {
      "application/vnd.jupyter.widget-view+json": {
       "model_id": "9761e84177d04257ae16f727cdc6e41d",
       "version_major": 2,
       "version_minor": 0
      },
      "text/plain": [
       "config.json:   0%|          | 0.00/758 [00:00<?, ?B/s]"
      ]
     },
     "metadata": {},
     "output_type": "display_data"
    },
    {
     "data": {
      "application/vnd.jupyter.widget-view+json": {
       "model_id": "eec6c13d173f4e1d94d5a71c0af1e480",
       "version_major": 2,
       "version_minor": 0
      },
      "text/plain": [
       "pytorch_model.bin:   0%|          | 0.00/438M [00:00<?, ?B/s]"
      ]
     },
     "metadata": {},
     "output_type": "display_data"
    },
    {
     "data": {
      "application/vnd.jupyter.widget-view+json": {
       "model_id": "9761e84177d04257ae16f727cdc6e41d",
       "version_major": 2,
       "version_minor": 0
      },
      "text/plain": [
       "config.json:   0%|          | 0.00/758 [00:00<?, ?B/s]"
      ]
     },
     "metadata": {},
     "output_type": "display_data"
    },
    {
     "data": {
      "application/vnd.jupyter.widget-view+json": {
       "model_id": "eec6c13d173f4e1d94d5a71c0af1e480",
       "version_major": 2,
       "version_minor": 0
      },
      "text/plain": [
       "pytorch_model.bin:   0%|          | 0.00/438M [00:00<?, ?B/s]"
      ]
     },
     "metadata": {},
     "output_type": "display_data"
    },
    {
     "data": {
      "application/vnd.jupyter.widget-view+json": {
       "model_id": "ce37eac61f2b4d27b97bbc910c120e07",
       "version_major": 2,
       "version_minor": 0
      },
      "text/plain": [
       "tokenizer_config.json:   0%|          | 0.00/252 [00:00<?, ?B/s]"
      ]
     },
     "metadata": {},
     "output_type": "display_data"
    },
    {
     "data": {
      "application/vnd.jupyter.widget-view+json": {
       "model_id": "9761e84177d04257ae16f727cdc6e41d",
       "version_major": 2,
       "version_minor": 0
      },
      "text/plain": [
       "config.json:   0%|          | 0.00/758 [00:00<?, ?B/s]"
      ]
     },
     "metadata": {},
     "output_type": "display_data"
    },
    {
     "data": {
      "application/vnd.jupyter.widget-view+json": {
       "model_id": "eec6c13d173f4e1d94d5a71c0af1e480",
       "version_major": 2,
       "version_minor": 0
      },
      "text/plain": [
       "pytorch_model.bin:   0%|          | 0.00/438M [00:00<?, ?B/s]"
      ]
     },
     "metadata": {},
     "output_type": "display_data"
    },
    {
     "data": {
      "application/vnd.jupyter.widget-view+json": {
       "model_id": "ce37eac61f2b4d27b97bbc910c120e07",
       "version_major": 2,
       "version_minor": 0
      },
      "text/plain": [
       "tokenizer_config.json:   0%|          | 0.00/252 [00:00<?, ?B/s]"
      ]
     },
     "metadata": {},
     "output_type": "display_data"
    },
    {
     "data": {
      "application/vnd.jupyter.widget-view+json": {
       "model_id": "87c81c32e3e042a4be91fa1e3716c504",
       "version_major": 2,
       "version_minor": 0
      },
      "text/plain": [
       "vocab.txt:   0%|          | 0.00/232k [00:00<?, ?B/s]"
      ]
     },
     "metadata": {},
     "output_type": "display_data"
    },
    {
     "data": {
      "application/vnd.jupyter.widget-view+json": {
       "model_id": "9761e84177d04257ae16f727cdc6e41d",
       "version_major": 2,
       "version_minor": 0
      },
      "text/plain": [
       "config.json:   0%|          | 0.00/758 [00:00<?, ?B/s]"
      ]
     },
     "metadata": {},
     "output_type": "display_data"
    },
    {
     "data": {
      "application/vnd.jupyter.widget-view+json": {
       "model_id": "eec6c13d173f4e1d94d5a71c0af1e480",
       "version_major": 2,
       "version_minor": 0
      },
      "text/plain": [
       "pytorch_model.bin:   0%|          | 0.00/438M [00:00<?, ?B/s]"
      ]
     },
     "metadata": {},
     "output_type": "display_data"
    },
    {
     "data": {
      "application/vnd.jupyter.widget-view+json": {
       "model_id": "ce37eac61f2b4d27b97bbc910c120e07",
       "version_major": 2,
       "version_minor": 0
      },
      "text/plain": [
       "tokenizer_config.json:   0%|          | 0.00/252 [00:00<?, ?B/s]"
      ]
     },
     "metadata": {},
     "output_type": "display_data"
    },
    {
     "data": {
      "application/vnd.jupyter.widget-view+json": {
       "model_id": "87c81c32e3e042a4be91fa1e3716c504",
       "version_major": 2,
       "version_minor": 0
      },
      "text/plain": [
       "vocab.txt:   0%|          | 0.00/232k [00:00<?, ?B/s]"
      ]
     },
     "metadata": {},
     "output_type": "display_data"
    },
    {
     "data": {
      "application/vnd.jupyter.widget-view+json": {
       "model_id": "6042acefb87c43dead820bde1354d5ad",
       "version_major": 2,
       "version_minor": 0
      },
      "text/plain": [
       "special_tokens_map.json:   0%|          | 0.00/112 [00:00<?, ?B/s]"
      ]
     },
     "metadata": {},
     "output_type": "display_data"
    },
    {
     "data": {
      "application/vnd.jupyter.widget-view+json": {
       "model_id": "01a64bae119b447ea92e1adddba9bd6d",
       "version_major": 2,
       "version_minor": 0
      },
      "text/plain": [
       "model.safetensors:   0%|          | 0.00/438M [00:00<?, ?B/s]"
      ]
     },
     "metadata": {},
     "output_type": "display_data"
    },
    {
     "data": {
      "application/vnd.jupyter.widget-view+json": {
       "model_id": "9761e84177d04257ae16f727cdc6e41d",
       "version_major": 2,
       "version_minor": 0
      },
      "text/plain": [
       "config.json:   0%|          | 0.00/758 [00:00<?, ?B/s]"
      ]
     },
     "metadata": {},
     "output_type": "display_data"
    },
    {
     "data": {
      "application/vnd.jupyter.widget-view+json": {
       "model_id": "eec6c13d173f4e1d94d5a71c0af1e480",
       "version_major": 2,
       "version_minor": 0
      },
      "text/plain": [
       "pytorch_model.bin:   0%|          | 0.00/438M [00:00<?, ?B/s]"
      ]
     },
     "metadata": {},
     "output_type": "display_data"
    },
    {
     "data": {
      "application/vnd.jupyter.widget-view+json": {
       "model_id": "ce37eac61f2b4d27b97bbc910c120e07",
       "version_major": 2,
       "version_minor": 0
      },
      "text/plain": [
       "tokenizer_config.json:   0%|          | 0.00/252 [00:00<?, ?B/s]"
      ]
     },
     "metadata": {},
     "output_type": "display_data"
    },
    {
     "data": {
      "application/vnd.jupyter.widget-view+json": {
       "model_id": "87c81c32e3e042a4be91fa1e3716c504",
       "version_major": 2,
       "version_minor": 0
      },
      "text/plain": [
       "vocab.txt:   0%|          | 0.00/232k [00:00<?, ?B/s]"
      ]
     },
     "metadata": {},
     "output_type": "display_data"
    },
    {
     "data": {
      "application/vnd.jupyter.widget-view+json": {
       "model_id": "6042acefb87c43dead820bde1354d5ad",
       "version_major": 2,
       "version_minor": 0
      },
      "text/plain": [
       "special_tokens_map.json:   0%|          | 0.00/112 [00:00<?, ?B/s]"
      ]
     },
     "metadata": {},
     "output_type": "display_data"
    },
    {
     "data": {
      "application/vnd.jupyter.widget-view+json": {
       "model_id": "01a64bae119b447ea92e1adddba9bd6d",
       "version_major": 2,
       "version_minor": 0
      },
      "text/plain": [
       "model.safetensors:   0%|          | 0.00/438M [00:00<?, ?B/s]"
      ]
     },
     "metadata": {},
     "output_type": "display_data"
    },
    {
     "name": "stderr",
     "output_type": "stream",
     "text": [
      "Device set to use mps:0\n"
     ]
    },
    {
     "data": {
      "application/vnd.jupyter.widget-view+json": {
       "model_id": "9761e84177d04257ae16f727cdc6e41d",
       "version_major": 2,
       "version_minor": 0
      },
      "text/plain": [
       "config.json:   0%|          | 0.00/758 [00:00<?, ?B/s]"
      ]
     },
     "metadata": {},
     "output_type": "display_data"
    },
    {
     "data": {
      "application/vnd.jupyter.widget-view+json": {
       "model_id": "eec6c13d173f4e1d94d5a71c0af1e480",
       "version_major": 2,
       "version_minor": 0
      },
      "text/plain": [
       "pytorch_model.bin:   0%|          | 0.00/438M [00:00<?, ?B/s]"
      ]
     },
     "metadata": {},
     "output_type": "display_data"
    },
    {
     "data": {
      "application/vnd.jupyter.widget-view+json": {
       "model_id": "ce37eac61f2b4d27b97bbc910c120e07",
       "version_major": 2,
       "version_minor": 0
      },
      "text/plain": [
       "tokenizer_config.json:   0%|          | 0.00/252 [00:00<?, ?B/s]"
      ]
     },
     "metadata": {},
     "output_type": "display_data"
    },
    {
     "data": {
      "application/vnd.jupyter.widget-view+json": {
       "model_id": "87c81c32e3e042a4be91fa1e3716c504",
       "version_major": 2,
       "version_minor": 0
      },
      "text/plain": [
       "vocab.txt:   0%|          | 0.00/232k [00:00<?, ?B/s]"
      ]
     },
     "metadata": {},
     "output_type": "display_data"
    },
    {
     "data": {
      "application/vnd.jupyter.widget-view+json": {
       "model_id": "6042acefb87c43dead820bde1354d5ad",
       "version_major": 2,
       "version_minor": 0
      },
      "text/plain": [
       "special_tokens_map.json:   0%|          | 0.00/112 [00:00<?, ?B/s]"
      ]
     },
     "metadata": {},
     "output_type": "display_data"
    },
    {
     "data": {
      "application/vnd.jupyter.widget-view+json": {
       "model_id": "01a64bae119b447ea92e1adddba9bd6d",
       "version_major": 2,
       "version_minor": 0
      },
      "text/plain": [
       "model.safetensors:   0%|          | 0.00/438M [00:00<?, ?B/s]"
      ]
     },
     "metadata": {},
     "output_type": "display_data"
    },
    {
     "name": "stderr",
     "output_type": "stream",
     "text": [
      "Device set to use mps:0\n"
     ]
    },
    {
     "data": {
      "application/vnd.jupyter.widget-view+json": {
       "model_id": "337d487ed43c4e21a0a509e4109d7a68",
       "version_major": 2,
       "version_minor": 0
      },
      "text/plain": [
       "Analyzing sentiment:   0%|          | 0/66 [00:00<?, ?it/s]"
      ]
     },
     "metadata": {},
     "output_type": "display_data"
    },
    {
     "data": {
      "application/vnd.jupyter.widget-view+json": {
       "model_id": "9761e84177d04257ae16f727cdc6e41d",
       "version_major": 2,
       "version_minor": 0
      },
      "text/plain": [
       "config.json:   0%|          | 0.00/758 [00:00<?, ?B/s]"
      ]
     },
     "metadata": {},
     "output_type": "display_data"
    },
    {
     "data": {
      "application/vnd.jupyter.widget-view+json": {
       "model_id": "eec6c13d173f4e1d94d5a71c0af1e480",
       "version_major": 2,
       "version_minor": 0
      },
      "text/plain": [
       "pytorch_model.bin:   0%|          | 0.00/438M [00:00<?, ?B/s]"
      ]
     },
     "metadata": {},
     "output_type": "display_data"
    },
    {
     "data": {
      "application/vnd.jupyter.widget-view+json": {
       "model_id": "ce37eac61f2b4d27b97bbc910c120e07",
       "version_major": 2,
       "version_minor": 0
      },
      "text/plain": [
       "tokenizer_config.json:   0%|          | 0.00/252 [00:00<?, ?B/s]"
      ]
     },
     "metadata": {},
     "output_type": "display_data"
    },
    {
     "data": {
      "application/vnd.jupyter.widget-view+json": {
       "model_id": "87c81c32e3e042a4be91fa1e3716c504",
       "version_major": 2,
       "version_minor": 0
      },
      "text/plain": [
       "vocab.txt:   0%|          | 0.00/232k [00:00<?, ?B/s]"
      ]
     },
     "metadata": {},
     "output_type": "display_data"
    },
    {
     "data": {
      "application/vnd.jupyter.widget-view+json": {
       "model_id": "6042acefb87c43dead820bde1354d5ad",
       "version_major": 2,
       "version_minor": 0
      },
      "text/plain": [
       "special_tokens_map.json:   0%|          | 0.00/112 [00:00<?, ?B/s]"
      ]
     },
     "metadata": {},
     "output_type": "display_data"
    },
    {
     "data": {
      "application/vnd.jupyter.widget-view+json": {
       "model_id": "01a64bae119b447ea92e1adddba9bd6d",
       "version_major": 2,
       "version_minor": 0
      },
      "text/plain": [
       "model.safetensors:   0%|          | 0.00/438M [00:00<?, ?B/s]"
      ]
     },
     "metadata": {},
     "output_type": "display_data"
    },
    {
     "name": "stderr",
     "output_type": "stream",
     "text": [
      "Device set to use mps:0\n"
     ]
    },
    {
     "data": {
      "application/vnd.jupyter.widget-view+json": {
       "model_id": "337d487ed43c4e21a0a509e4109d7a68",
       "version_major": 2,
       "version_minor": 0
      },
      "text/plain": [
       "Analyzing sentiment:   0%|          | 0/66 [00:00<?, ?it/s]"
      ]
     },
     "metadata": {},
     "output_type": "display_data"
    },
    {
     "name": "stdout",
     "output_type": "stream",
     "text": [
      "                 date                                               text  \\\n",
      "0 2025-05-17 10:27:00  Walmart should STOP trying to blame Tariffs as...   \n",
      "1 2025-05-09 08:43:00  Many Trade Deals in the hopper, all good (GREA...   \n",
      "2 2025-05-02 12:08:00  Maria Bartiromo: “As President Trump would say...   \n",
      "3 2025-04-30 09:13:00  This is Biden’s Stock Market, not Trump’s. I d...   \n",
      "4 2025-04-17 08:02:00  Had a very productive call with the President ...   \n",
      "\n",
      "  sentiment_label  sentiment_score  \n",
      "0         neutral         0.840971  \n",
      "1         neutral         0.716537  \n",
      "2        positive         0.792937  \n",
      "3         neutral         0.757984  \n",
      "4         neutral         0.535753  \n",
      "\n",
      "Sentiment Label Counts:\n",
      "sentiment_label\n",
      "neutral     38\n",
      "negative    18\n",
      "positive    10\n",
      "Name: count, dtype: int64\n"
     ]
    }
   ],
   "source": [
    "# Initialize sentiment analysis pipeline with FinBERT\n",
    "sentiment_pipeline = pipeline(\"sentiment-analysis\", model=\"ProsusAI/finbert\")\n",
    "\n",
    "# Apply sentiment analysis to the 'text' column\n",
    "# Using a loop with tqdm for progress bar, especially for larger datasets\n",
    "# For smaller datasets like this, direct application is also fine\n",
    "results = []\n",
    "for text in tqdm(combined['text'], desc=\"Analyzing sentiment\"):\n",
    "    try:\n",
    "        result = sentiment_pipeline(text)\n",
    "        results.append(result[0]) # sentiment_pipeline returns a list of dicts\n",
    "    except Exception as e:\n",
    "        print(f\"Error processing text: {text[:50]}... | Error: {e}\")\n",
    "        results.append({'label': 'ERROR', 'score': np.nan}) # Handle potential errors\n",
    "\n",
    "# Convert results to DataFrame and merge\n",
    "sentiment_df = pd.DataFrame(results)\n",
    "combined['sentiment_label'] = sentiment_df['label']\n",
    "combined['sentiment_score'] = sentiment_df['score']\n",
    "\n",
    "# Display the first few rows with sentiment\n",
    "print(combined.head())\n",
    "\n",
    "# Display value counts for sentiment labels\n",
    "print(\"\\nSentiment Label Counts:\")\n",
    "print(combined['sentiment_label'].value_counts())"
   ]
  },
  {
   "cell_type": "code",
   "execution_count": 6,
   "id": "f2945d14",
   "metadata": {},
   "outputs": [],
   "source": [
    "# Save to CSV\n",
    "combined.to_csv('finbert_sentiments.csv', index=False)"
   ]
  },
  {
   "cell_type": "code",
   "execution_count": 4,
   "id": "7e823d5b",
   "metadata": {},
   "outputs": [],
   "source": [
    "combined = pd.read_csv('finbert_sentiments.csv')"
   ]
  },
  {
   "cell_type": "code",
   "execution_count": 5,
   "id": "3a7eaf79",
   "metadata": {},
   "outputs": [],
   "source": [
    "START_DATE = '2023-11-21'\n",
    "END_DATE = '2025-05-17'\n",
    "# Define the asset universe\n",
    "tickers = {\n",
    "    # US Equities\n",
    "    'SPY': 'QUOTEMEDIA/PRICES',  # S&P 500 ETF\n",
    "    'QQQ': 'QUOTEMEDIA/PRICES',  # Nasdaq 100 ETF\n",
    "    'IWM': 'QUOTEMEDIA/PRICES',  # Russell 2000 ETF (Small Cap)\n",
    "    # International Equities\n",
    "    'EFA': 'QUOTEMEDIA/PRICES',  # MSCI EAFE ETF (Developed Markets ex-US/Canada)\n",
    "    'EEM': 'QUOTEMEDIA/PRICES',  # MSCI Emerging Markets ETF\n",
    "    # Fixed Income\n",
    "    'AGG': 'QUOTEMEDIA/PRICES',  # US Aggregate Bond ETF\n",
    "    'TLT': 'QUOTEMEDIA/PRICES',  # US 20+ Year Treasury Bond ETF\n",
    "    # Commodities\n",
    "    'GLD': 'QUOTEMEDIA/PRICES',  # Gold ETF\n",
    "    'USO': 'QUOTEMEDIA/PRICES',  # Oil ETF\n",
    "    # Real Estate\n",
    "    'VNQ': 'QUOTEMEDIA/PRICES',   # US Real Estate ETF\n",
    "    # Adding a couple more for diversity\n",
    "    'GSG': 'QUOTEMEDIA/PRICES', # Broad Commodities ETF\n",
    "    'HYG': 'QUOTEMEDIA/PRICES'  # High Yield Corporate Bond ETF\n",
    "}\n",
    "\n"
   ]
  },
  {
   "cell_type": "code",
   "execution_count": 6,
   "id": "c475e6c3",
   "metadata": {},
   "outputs": [
    {
     "name": "stdout",
     "output_type": "stream",
     "text": [
      "\n",
      "Successfully fetched and combined data for all available tickers.\n",
      "Price data from 2023-11-21 00:00:00 to 2025-05-16 00:00:00\n"
     ]
    }
   ],
   "source": [
    "# Fetch data for each ticker\n",
    "all_data = {}\n",
    "for ticker, table in tickers.items():\n",
    "    try:\n",
    "        # Fetch data from the specified start_date\n",
    "        data = nasdaqdatalink.get_table(\n",
    "            table, \n",
    "            ticker=ticker, \n",
    "            qopts={'columns': ['date', 'adj_close']},\n",
    "            date={'gte': START_DATE, 'lte': END_DATE},\n",
    "            paginate=True\n",
    "        )\n",
    "        if not data.empty:\n",
    "            data = data.set_index('date')\n",
    "            all_data[ticker] = data['adj_close']\n",
    "        else:\n",
    "            print(f\"No data found for {ticker}\")\n",
    "    except Exception as e:\n",
    "        print(f\"Could not retrieve data for {ticker}: {e}\")\n",
    "\n",
    "# Combine into a single DataFrame\n",
    "if all_data:\n",
    "    price_df = pd.DataFrame(all_data)\n",
    "    price_df = price_df.sort_index() # Ensure dates are in ascending order\n",
    "    print(\"\\nSuccessfully fetched and combined data for all available tickers.\")\n",
    "    print(f\"Price data from {price_df.index.min()} to {price_df.index.max()}\")\n",
    "else:\n",
    "    print(\"No data was fetched. Please check ticker symbols and API key.\")"
   ]
  },
  {
   "cell_type": "code",
   "execution_count": 7,
   "id": "e0ace169",
   "metadata": {},
   "outputs": [
    {
     "data": {
      "text/html": [
       "<div>\n",
       "<style scoped>\n",
       "    .dataframe tbody tr th:only-of-type {\n",
       "        vertical-align: middle;\n",
       "    }\n",
       "\n",
       "    .dataframe tbody tr th {\n",
       "        vertical-align: top;\n",
       "    }\n",
       "\n",
       "    .dataframe thead th {\n",
       "        text-align: right;\n",
       "    }\n",
       "</style>\n",
       "<table border=\"1\" class=\"dataframe\">\n",
       "  <thead>\n",
       "    <tr style=\"text-align: right;\">\n",
       "      <th></th>\n",
       "      <th>SPY</th>\n",
       "      <th>QQQ</th>\n",
       "      <th>IWM</th>\n",
       "      <th>EFA</th>\n",
       "      <th>EEM</th>\n",
       "      <th>AGG</th>\n",
       "      <th>TLT</th>\n",
       "      <th>GLD</th>\n",
       "      <th>USO</th>\n",
       "      <th>VNQ</th>\n",
       "      <th>GSG</th>\n",
       "      <th>HYG</th>\n",
       "    </tr>\n",
       "    <tr>\n",
       "      <th>date</th>\n",
       "      <th></th>\n",
       "      <th></th>\n",
       "      <th></th>\n",
       "      <th></th>\n",
       "      <th></th>\n",
       "      <th></th>\n",
       "      <th></th>\n",
       "      <th></th>\n",
       "      <th></th>\n",
       "      <th></th>\n",
       "      <th></th>\n",
       "      <th></th>\n",
       "    </tr>\n",
       "  </thead>\n",
       "  <tbody>\n",
       "    <tr>\n",
       "      <th>2023-11-21</th>\n",
       "      <td>448.604930</td>\n",
       "      <td>385.828290</td>\n",
       "      <td>174.823245</td>\n",
       "      <td>69.710864</td>\n",
       "      <td>38.584562</td>\n",
       "      <td>92.099566</td>\n",
       "      <td>86.782334</td>\n",
       "      <td>185.35</td>\n",
       "      <td>72.53</td>\n",
       "      <td>75.930125</td>\n",
       "      <td>21.18</td>\n",
       "      <td>70.580802</td>\n",
       "    </tr>\n",
       "    <tr>\n",
       "      <th>2023-11-22</th>\n",
       "      <td>450.336919</td>\n",
       "      <td>387.407477</td>\n",
       "      <td>175.919471</td>\n",
       "      <td>69.875826</td>\n",
       "      <td>38.506614</td>\n",
       "      <td>92.186361</td>\n",
       "      <td>87.089019</td>\n",
       "      <td>184.56</td>\n",
       "      <td>71.61</td>\n",
       "      <td>76.304307</td>\n",
       "      <td>20.97</td>\n",
       "      <td>70.703223</td>\n",
       "    </tr>\n",
       "    <tr>\n",
       "      <th>2023-11-24</th>\n",
       "      <td>450.614038</td>\n",
       "      <td>386.861218</td>\n",
       "      <td>177.104579</td>\n",
       "      <td>70.409525</td>\n",
       "      <td>38.526101</td>\n",
       "      <td>91.762028</td>\n",
       "      <td>86.063540</td>\n",
       "      <td>185.52</td>\n",
       "      <td>70.82</td>\n",
       "      <td>76.524979</td>\n",
       "      <td>20.76</td>\n",
       "      <td>70.627887</td>\n",
       "    </tr>\n",
       "    <tr>\n",
       "      <th>2023-11-27</th>\n",
       "      <td>449.802477</td>\n",
       "      <td>386.523530</td>\n",
       "      <td>176.512025</td>\n",
       "      <td>70.166935</td>\n",
       "      <td>38.370204</td>\n",
       "      <td>92.282800</td>\n",
       "      <td>87.501127</td>\n",
       "      <td>186.77</td>\n",
       "      <td>69.96</td>\n",
       "      <td>76.803216</td>\n",
       "      <td>20.55</td>\n",
       "      <td>70.731474</td>\n",
       "    </tr>\n",
       "    <tr>\n",
       "      <th>2023-11-28</th>\n",
       "      <td>450.247846</td>\n",
       "      <td>387.536593</td>\n",
       "      <td>175.830587</td>\n",
       "      <td>70.186342</td>\n",
       "      <td>38.691742</td>\n",
       "      <td>92.687845</td>\n",
       "      <td>87.673638</td>\n",
       "      <td>189.26</td>\n",
       "      <td>71.26</td>\n",
       "      <td>77.311720</td>\n",
       "      <td>20.86</td>\n",
       "      <td>71.042237</td>\n",
       "    </tr>\n",
       "  </tbody>\n",
       "</table>\n",
       "</div>"
      ],
      "text/plain": [
       "                   SPY         QQQ         IWM        EFA        EEM  \\\n",
       "date                                                                   \n",
       "2023-11-21  448.604930  385.828290  174.823245  69.710864  38.584562   \n",
       "2023-11-22  450.336919  387.407477  175.919471  69.875826  38.506614   \n",
       "2023-11-24  450.614038  386.861218  177.104579  70.409525  38.526101   \n",
       "2023-11-27  449.802477  386.523530  176.512025  70.166935  38.370204   \n",
       "2023-11-28  450.247846  387.536593  175.830587  70.186342  38.691742   \n",
       "\n",
       "                  AGG        TLT     GLD    USO        VNQ    GSG        HYG  \n",
       "date                                                                          \n",
       "2023-11-21  92.099566  86.782334  185.35  72.53  75.930125  21.18  70.580802  \n",
       "2023-11-22  92.186361  87.089019  184.56  71.61  76.304307  20.97  70.703223  \n",
       "2023-11-24  91.762028  86.063540  185.52  70.82  76.524979  20.76  70.627887  \n",
       "2023-11-27  92.282800  87.501127  186.77  69.96  76.803216  20.55  70.731474  \n",
       "2023-11-28  92.687845  87.673638  189.26  71.26  77.311720  20.86  71.042237  "
      ]
     },
     "execution_count": 7,
     "metadata": {},
     "output_type": "execute_result"
    }
   ],
   "source": [
    "price_df.head()"
   ]
  },
  {
   "cell_type": "code",
   "execution_count": null,
   "id": "5e7bcbef",
   "metadata": {},
   "outputs": [],
   "source": []
  },
  {
   "cell_type": "code",
   "execution_count": 8,
   "id": "c47c9c17",
   "metadata": {},
   "outputs": [
    {
     "name": "stdout",
     "output_type": "stream",
     "text": [
      "Daily Stock Returns (first 5 rows):\n",
      "                 SPY       QQQ       IWM       EFA       EEM       AGG  \\\n",
      "date                                                                     \n",
      "2023-11-22  0.003861  0.004093  0.006270  0.002366 -0.002020  0.000942   \n",
      "2023-11-24  0.000615 -0.001410  0.006737  0.007638  0.000506 -0.004603   \n",
      "2023-11-27 -0.001801 -0.000873 -0.003346 -0.003445 -0.004047  0.005675   \n",
      "2023-11-28  0.000990  0.002621 -0.003861  0.000277  0.008380  0.004389   \n",
      "2023-11-29 -0.000703 -0.000974  0.005280  0.002074 -0.005792  0.004890   \n",
      "\n",
      "                 TLT       GLD       USO       VNQ       GSG       HYG  \n",
      "date                                                                    \n",
      "2023-11-22  0.003534 -0.004262 -0.012684  0.004928 -0.009915  0.001734  \n",
      "2023-11-24 -0.011775  0.005202 -0.011032  0.002892 -0.010014 -0.001066  \n",
      "2023-11-27  0.016704  0.006738 -0.012143  0.003636 -0.010116  0.001467  \n",
      "2023-11-28  0.001972  0.013332  0.018582  0.006621  0.015085  0.004394  \n",
      "2023-11-29  0.012571  0.001479  0.017682  0.006950  0.010067  0.005435  \n"
     ]
    }
   ],
   "source": [
    "# Calculate daily percentage returns\n",
    "returns_df = price_df.pct_change()\n",
    "\n",
    "# Drop the first row of NaNs created by pct_change()\n",
    "returns_df = returns_df.dropna(how='all')\n",
    "\n",
    "print(\"Daily Stock Returns (first 5 rows):\")\n",
    "print(returns_df.head())"
   ]
  },
  {
   "cell_type": "code",
   "execution_count": 14,
   "id": "15a508c4",
   "metadata": {},
   "outputs": [],
   "source": [
    "combined['date'] = pd.to_datetime(combined['date'])"
   ]
  },
  {
   "cell_type": "code",
   "execution_count": 15,
   "id": "8ac67ac3",
   "metadata": {},
   "outputs": [
    {
     "name": "stdout",
     "output_type": "stream",
     "text": [
      "\n",
      "Daily Aggregated Sentiment (first 5 rows):\n",
      "            numeric_sentiment\n",
      "date                         \n",
      "2023-11-21           0.000000\n",
      "2023-11-30           0.000000\n",
      "2023-12-16           0.000000\n",
      "2023-12-26           0.000000\n",
      "2023-12-29          -0.886635\n"
     ]
    }
   ],
   "source": [
    "import numpy as np\n",
    "\n",
    "# Prepare sentiment data\n",
    "# Create a numerical sentiment score: positive_score for positive, -negative_score for negative, 0 for neutral\n",
    "combined['numeric_sentiment'] = np.select(\n",
    "    [combined['sentiment_label'] == 'positive', combined['sentiment_label'] == 'negative'],\n",
    "    [combined['sentiment_score'], -combined['sentiment_score']],\n",
    "    default=0\n",
    ")\n",
    "\n",
    "# Ensure 'date' is just the date part, without time, for daily aggregation\n",
    "combined['date_only'] = combined['date'].dt.normalize()\n",
    "\n",
    "# Aggregate sentiment by day (mean sentiment if multiple tweets)\n",
    "daily_sentiment_df = combined.groupby('date_only')['numeric_sentiment'].mean().reset_index()\n",
    "daily_sentiment_df = daily_sentiment_df.set_index('date_only')\n",
    "daily_sentiment_df.index.name = 'date' # Match index name for merging\n",
    "\n",
    "print(\"\\nDaily Aggregated Sentiment (first 5 rows):\")\n",
    "print(daily_sentiment_df.head())"
   ]
  },
  {
   "cell_type": "code",
   "execution_count": 16,
   "id": "b23e3c9e",
   "metadata": {},
   "outputs": [
    {
     "name": "stdout",
     "output_type": "stream",
     "text": [
      "\n",
      "Merged Data with Stock Returns and Sentiment (first 5 rows):\n",
      "                 SPY       QQQ       IWM       EFA       EEM       AGG  \\\n",
      "date                                                                     \n",
      "2023-11-22  0.003861  0.004093  0.006270  0.002366 -0.002020  0.000942   \n",
      "2023-11-24  0.000615 -0.001410  0.006737  0.007638  0.000506 -0.004603   \n",
      "2023-11-27 -0.001801 -0.000873 -0.003346 -0.003445 -0.004047  0.005675   \n",
      "2023-11-28  0.000990  0.002621 -0.003861  0.000277  0.008380  0.004389   \n",
      "2023-11-29 -0.000703 -0.000974  0.005280  0.002074 -0.005792  0.004890   \n",
      "\n",
      "                 TLT       GLD       USO       VNQ       GSG       HYG  \\\n",
      "date                                                                     \n",
      "2023-11-22  0.003534 -0.004262 -0.012684  0.004928 -0.009915  0.001734   \n",
      "2023-11-24 -0.011775  0.005202 -0.011032  0.002892 -0.010014 -0.001066   \n",
      "2023-11-27  0.016704  0.006738 -0.012143  0.003636 -0.010116  0.001467   \n",
      "2023-11-28  0.001972  0.013332  0.018582  0.006621  0.015085  0.004394   \n",
      "2023-11-29  0.012571  0.001479  0.017682  0.006950  0.010067  0.005435   \n",
      "\n",
      "            numeric_sentiment  \n",
      "date                           \n",
      "2023-11-22                0.0  \n",
      "2023-11-24                0.0  \n",
      "2023-11-27                0.0  \n",
      "2023-11-28                0.0  \n",
      "2023-11-29                0.0  \n",
      "\n",
      "Shape of merged_df: (371, 13)\n",
      "\n",
      "NaNs in merged_df after processing:\n",
      "SPY                  0\n",
      "QQQ                  0\n",
      "IWM                  0\n",
      "EFA                  0\n",
      "EEM                  0\n",
      "AGG                  0\n",
      "TLT                  0\n",
      "GLD                  0\n",
      "USO                  0\n",
      "VNQ                  0\n",
      "GSG                  0\n",
      "HYG                  0\n",
      "numeric_sentiment    0\n",
      "dtype: int64\n"
     ]
    },
    {
     "name": "stderr",
     "output_type": "stream",
     "text": [
      "/var/folders/b_/87z_y1k156v1lhn4cngf1jgr0000gn/T/ipykernel_59402/4031333266.py:6: FutureWarning: Series.fillna with 'method' is deprecated and will raise in a future version. Use obj.ffill() or obj.bfill() instead.\n",
      "  merged_df['numeric_sentiment'] = merged_df['numeric_sentiment'].fillna(method='ffill')\n"
     ]
    }
   ],
   "source": [
    "# Merge stock returns with sentiment data\n",
    "# We'll do a left join on returns_df to keep all trading days\n",
    "merged_df = returns_df.join(daily_sentiment_df, how='left')\n",
    "\n",
    "# Forward-fill missing sentiment values (sentiment persists until a new tweet)\n",
    "merged_df['numeric_sentiment'] = merged_df['numeric_sentiment'].fillna(method='ffill')\n",
    "\n",
    "# Fill any remaining NaNs at the beginning (if no tweet before first trading day in range) with 0\n",
    "merged_df['numeric_sentiment'] = merged_df['numeric_sentiment'].fillna(0)\n",
    "\n",
    "print(\"\\nMerged Data with Stock Returns and Sentiment (first 5 rows):\")\n",
    "print(merged_df.head())\n",
    "print(f\"\\nShape of merged_df: {merged_df.shape}\")\n",
    "# Check for NaNs that might affect regression\n",
    "print(\"\\nNaNs in merged_df after processing:\")\n",
    "print(merged_df.isnull().sum())"
   ]
  },
  {
   "cell_type": "code",
   "execution_count": 17,
   "id": "d8fd2b37",
   "metadata": {},
   "outputs": [
    {
     "name": "stdout",
     "output_type": "stream",
     "text": [
      "\n",
      "Regression results for SPY:\n",
      "                            OLS Regression Results                            \n",
      "==============================================================================\n",
      "Dep. Variable:                    SPY   R-squared:                       0.016\n",
      "Model:                            OLS   Adj. R-squared:                  0.013\n",
      "Method:                 Least Squares   F-statistic:                     6.011\n",
      "Date:                Mon, 19 May 2025   Prob (F-statistic):             0.0147\n",
      "Time:                        14:32:21   Log-Likelihood:                 1143.3\n",
      "No. Observations:                 371   AIC:                            -2283.\n",
      "Df Residuals:                     369   BIC:                            -2275.\n",
      "Df Model:                           1                                         \n",
      "Covariance Type:            nonrobust                                         \n",
      "=====================================================================================\n",
      "                        coef    std err          t      P>|t|      [0.025      0.975]\n",
      "-------------------------------------------------------------------------------------\n",
      "const                 0.0003      0.001      0.501      0.616      -0.001       0.002\n",
      "numeric_sentiment    -0.0030      0.001     -2.452      0.015      -0.005      -0.001\n",
      "==============================================================================\n",
      "Omnibus:                      193.938   Durbin-Watson:                   2.203\n",
      "Prob(Omnibus):                  0.000   Jarque-Bera (JB):             8729.071\n",
      "Skew:                           1.450   Prob(JB):                         0.00\n",
      "Kurtosis:                      26.585   Cond. No.                         2.19\n",
      "==============================================================================\n",
      "\n",
      "Notes:\n",
      "[1] Standard Errors assume that the covariance matrix of the errors is correctly specified.\n",
      "--------------------------------------------------------------------------------\n",
      "\n",
      "Regression results for QQQ:\n",
      "                            OLS Regression Results                            \n",
      "==============================================================================\n",
      "Dep. Variable:                    QQQ   R-squared:                       0.016\n",
      "Model:                            OLS   Adj. R-squared:                  0.013\n",
      "Method:                 Least Squares   F-statistic:                     5.920\n",
      "Date:                Mon, 19 May 2025   Prob (F-statistic):             0.0154\n",
      "Time:                        14:32:21   Log-Likelihood:                 1053.9\n",
      "No. Observations:                 371   AIC:                            -2104.\n",
      "Df Residuals:                     369   BIC:                            -2096.\n",
      "Df Model:                           1                                         \n",
      "Covariance Type:            nonrobust                                         \n",
      "=====================================================================================\n",
      "                        coef    std err          t      P>|t|      [0.025      0.975]\n",
      "-------------------------------------------------------------------------------------\n",
      "const                 0.0003      0.001      0.341      0.733      -0.001       0.002\n",
      "numeric_sentiment    -0.0038      0.002     -2.433      0.015      -0.007      -0.001\n",
      "==============================================================================\n",
      "Omnibus:                      145.463   Durbin-Watson:                   2.157\n",
      "Prob(Omnibus):                  0.000   Jarque-Bera (JB):             3355.129\n",
      "Skew:                           1.074   Prob(JB):                         0.00\n",
      "Kurtosis:                      17.575   Cond. No.                         2.19\n",
      "==============================================================================\n",
      "\n",
      "Notes:\n",
      "[1] Standard Errors assume that the covariance matrix of the errors is correctly specified.\n",
      "--------------------------------------------------------------------------------\n",
      "\n",
      "Regression results for IWM:\n",
      "                            OLS Regression Results                            \n",
      "==============================================================================\n",
      "Dep. Variable:                    IWM   R-squared:                       0.007\n",
      "Model:                            OLS   Adj. R-squared:                  0.005\n",
      "Method:                 Least Squares   F-statistic:                     2.678\n",
      "Date:                Mon, 19 May 2025   Prob (F-statistic):              0.103\n",
      "Time:                        14:32:21   Log-Likelihood:                 1046.4\n",
      "No. Observations:                 371   AIC:                            -2089.\n",
      "Df Residuals:                     369   BIC:                            -2081.\n",
      "Df Model:                           1                                         \n",
      "Covariance Type:            nonrobust                                         \n",
      "=====================================================================================\n",
      "                        coef    std err          t      P>|t|      [0.025      0.975]\n",
      "-------------------------------------------------------------------------------------\n",
      "const                 0.0002      0.001      0.192      0.848      -0.001       0.002\n",
      "numeric_sentiment    -0.0026      0.002     -1.636      0.103      -0.006       0.001\n",
      "==============================================================================\n",
      "Omnibus:                       49.497   Durbin-Watson:                   2.035\n",
      "Prob(Omnibus):                  0.000   Jarque-Bera (JB):              300.790\n",
      "Skew:                           0.309   Prob(JB):                     4.83e-66\n",
      "Kurtosis:                       7.368   Cond. No.                         2.19\n",
      "==============================================================================\n",
      "\n",
      "Notes:\n",
      "[1] Standard Errors assume that the covariance matrix of the errors is correctly specified.\n",
      "--------------------------------------------------------------------------------\n",
      "\n",
      "Regression results for EFA:\n",
      "                            OLS Regression Results                            \n",
      "==============================================================================\n",
      "Dep. Variable:                    EFA   R-squared:                       0.002\n",
      "Model:                            OLS   Adj. R-squared:                 -0.001\n",
      "Method:                 Least Squares   F-statistic:                    0.7985\n",
      "Date:                Mon, 19 May 2025   Prob (F-statistic):              0.372\n",
      "Time:                        14:32:21   Log-Likelihood:                 1185.7\n",
      "No. Observations:                 371   AIC:                            -2367.\n",
      "Df Residuals:                     369   BIC:                            -2360.\n",
      "Df Model:                           1                                         \n",
      "Covariance Type:            nonrobust                                         \n",
      "=====================================================================================\n",
      "                        coef    std err          t      P>|t|      [0.025      0.975]\n",
      "-------------------------------------------------------------------------------------\n",
      "const                 0.0005      0.001      0.889      0.374      -0.001       0.002\n",
      "numeric_sentiment    -0.0010      0.001     -0.894      0.372      -0.003       0.001\n",
      "==============================================================================\n",
      "Omnibus:                       97.958   Durbin-Watson:                   2.019\n",
      "Prob(Omnibus):                  0.000   Jarque-Bera (JB):             2951.564\n",
      "Skew:                           0.325   Prob(JB):                         0.00\n",
      "Kurtosis:                      16.803   Cond. No.                         2.19\n",
      "==============================================================================\n",
      "\n",
      "Notes:\n",
      "[1] Standard Errors assume that the covariance matrix of the errors is correctly specified.\n",
      "--------------------------------------------------------------------------------\n",
      "\n",
      "Regression results for EEM:\n",
      "                            OLS Regression Results                            \n",
      "==============================================================================\n",
      "Dep. Variable:                    EEM   R-squared:                       0.003\n",
      "Model:                            OLS   Adj. R-squared:                  0.000\n",
      "Method:                 Least Squares   F-statistic:                     1.158\n",
      "Date:                Mon, 19 May 2025   Prob (F-statistic):              0.283\n",
      "Time:                        14:32:21   Log-Likelihood:                 1142.8\n",
      "No. Observations:                 371   AIC:                            -2282.\n",
      "Df Residuals:                     369   BIC:                            -2274.\n",
      "Df Model:                           1                                         \n",
      "Covariance Type:            nonrobust                                         \n",
      "=====================================================================================\n",
      "                        coef    std err          t      P>|t|      [0.025      0.975]\n",
      "-------------------------------------------------------------------------------------\n",
      "const                 0.0003      0.001      0.530      0.597      -0.001       0.002\n",
      "numeric_sentiment    -0.0013      0.001     -1.076      0.283      -0.004       0.001\n",
      "==============================================================================\n",
      "Omnibus:                       59.323   Durbin-Watson:                   2.019\n",
      "Prob(Omnibus):                  0.000   Jarque-Bera (JB):              493.796\n",
      "Skew:                           0.321   Prob(JB):                    5.94e-108\n",
      "Kurtosis:                       8.615   Cond. No.                         2.19\n",
      "==============================================================================\n",
      "\n",
      "Notes:\n",
      "[1] Standard Errors assume that the covariance matrix of the errors is correctly specified.\n",
      "--------------------------------------------------------------------------------\n",
      "\n",
      "Regression results for AGG:\n",
      "                            OLS Regression Results                            \n",
      "==============================================================================\n",
      "Dep. Variable:                    AGG   R-squared:                       0.008\n",
      "Model:                            OLS   Adj. R-squared:                  0.005\n",
      "Method:                 Least Squares   F-statistic:                     2.958\n",
      "Date:                Mon, 19 May 2025   Prob (F-statistic):             0.0863\n",
      "Time:                        14:32:21   Log-Likelihood:                 1564.5\n",
      "No. Observations:                 371   AIC:                            -3125.\n",
      "Df Residuals:                     369   BIC:                            -3117.\n",
      "Df Model:                           1                                         \n",
      "Covariance Type:            nonrobust                                         \n",
      "=====================================================================================\n",
      "                        coef    std err          t      P>|t|      [0.025      0.975]\n",
      "-------------------------------------------------------------------------------------\n",
      "const                 0.0003      0.000      1.417      0.157      -0.000       0.001\n",
      "numeric_sentiment     0.0007      0.000      1.720      0.086   -9.65e-05       0.001\n",
      "==============================================================================\n",
      "Omnibus:                       10.017   Durbin-Watson:                   1.868\n",
      "Prob(Omnibus):                  0.007   Jarque-Bera (JB):               13.153\n",
      "Skew:                          -0.240   Prob(JB):                      0.00139\n",
      "Kurtosis:                       3.788   Cond. No.                         2.19\n",
      "==============================================================================\n",
      "\n",
      "Notes:\n",
      "[1] Standard Errors assume that the covariance matrix of the errors is correctly specified.\n",
      "--------------------------------------------------------------------------------\n",
      "\n",
      "Regression results for TLT:\n",
      "                            OLS Regression Results                            \n",
      "==============================================================================\n",
      "Dep. Variable:                    TLT   R-squared:                       0.013\n",
      "Model:                            OLS   Adj. R-squared:                  0.011\n",
      "Method:                 Least Squares   F-statistic:                     4.955\n",
      "Date:                Mon, 19 May 2025   Prob (F-statistic):             0.0266\n",
      "Time:                        14:32:21   Log-Likelihood:                 1215.3\n",
      "No. Observations:                 371   AIC:                            -2427.\n",
      "Df Residuals:                     369   BIC:                            -2419.\n",
      "Df Model:                           1                                         \n",
      "Covariance Type:            nonrobust                                         \n",
      "=====================================================================================\n",
      "                        coef    std err          t      P>|t|      [0.025      0.975]\n",
      "-------------------------------------------------------------------------------------\n",
      "const                 0.0004      0.001      0.811      0.418      -0.001       0.001\n",
      "numeric_sentiment     0.0022      0.001      2.226      0.027       0.000       0.004\n",
      "==============================================================================\n",
      "Omnibus:                        3.295   Durbin-Watson:                   1.855\n",
      "Prob(Omnibus):                  0.192   Jarque-Bera (JB):                3.206\n",
      "Skew:                          -0.143   Prob(JB):                        0.201\n",
      "Kurtosis:                       3.354   Cond. No.                         2.19\n",
      "==============================================================================\n",
      "\n",
      "Notes:\n",
      "[1] Standard Errors assume that the covariance matrix of the errors is correctly specified.\n",
      "--------------------------------------------------------------------------------\n",
      "\n",
      "Regression results for GLD:\n",
      "                            OLS Regression Results                            \n",
      "==============================================================================\n",
      "Dep. Variable:                    GLD   R-squared:                       0.000\n",
      "Model:                            OLS   Adj. R-squared:                 -0.002\n",
      "Method:                 Least Squares   F-statistic:                    0.1506\n",
      "Date:                Mon, 19 May 2025   Prob (F-statistic):              0.698\n",
      "Time:                        14:32:21   Log-Likelihood:                 1167.0\n",
      "No. Observations:                 371   AIC:                            -2330.\n",
      "Df Residuals:                     369   BIC:                            -2322.\n",
      "Df Model:                           1                                         \n",
      "Covariance Type:            nonrobust                                         \n",
      "=====================================================================================\n",
      "                        coef    std err          t      P>|t|      [0.025      0.975]\n",
      "-------------------------------------------------------------------------------------\n",
      "const                 0.0014      0.001      2.388      0.017       0.000       0.003\n",
      "numeric_sentiment     0.0004      0.001      0.388      0.698      -0.002       0.003\n",
      "==============================================================================\n",
      "Omnibus:                       10.098   Durbin-Watson:                   2.044\n",
      "Prob(Omnibus):                  0.006   Jarque-Bera (JB):               15.069\n",
      "Skew:                          -0.189   Prob(JB):                     0.000534\n",
      "Kurtosis:                       3.912   Cond. No.                         2.19\n",
      "==============================================================================\n",
      "\n",
      "Notes:\n",
      "[1] Standard Errors assume that the covariance matrix of the errors is correctly specified.\n",
      "--------------------------------------------------------------------------------\n",
      "\n",
      "Regression results for USO:\n",
      "                            OLS Regression Results                            \n",
      "==============================================================================\n",
      "Dep. Variable:                    USO   R-squared:                       0.014\n",
      "Model:                            OLS   Adj. R-squared:                  0.011\n",
      "Method:                 Least Squares   F-statistic:                     5.173\n",
      "Date:                Mon, 19 May 2025   Prob (F-statistic):             0.0235\n",
      "Time:                        14:32:21   Log-Likelihood:                 963.78\n",
      "No. Observations:                 371   AIC:                            -1924.\n",
      "Df Residuals:                     369   BIC:                            -1916.\n",
      "Df Model:                           1                                         \n",
      "Covariance Type:            nonrobust                                         \n",
      "=====================================================================================\n",
      "                        coef    std err          t      P>|t|      [0.025      0.975]\n",
      "-------------------------------------------------------------------------------------\n",
      "const                -0.0008      0.001     -0.778      0.437      -0.003       0.001\n",
      "numeric_sentiment    -0.0045      0.002     -2.274      0.024      -0.008      -0.001\n",
      "==============================================================================\n",
      "Omnibus:                        7.627   Durbin-Watson:                   2.025\n",
      "Prob(Omnibus):                  0.022   Jarque-Bera (JB):               10.984\n",
      "Skew:                          -0.128   Prob(JB):                      0.00412\n",
      "Kurtosis:                       3.803   Cond. No.                         2.19\n",
      "==============================================================================\n",
      "\n",
      "Notes:\n",
      "[1] Standard Errors assume that the covariance matrix of the errors is correctly specified.\n",
      "--------------------------------------------------------------------------------\n",
      "\n",
      "Regression results for VNQ:\n",
      "                            OLS Regression Results                            \n",
      "==============================================================================\n",
      "Dep. Variable:                    VNQ   R-squared:                       0.001\n",
      "Model:                            OLS   Adj. R-squared:                 -0.001\n",
      "Method:                 Least Squares   F-statistic:                    0.4482\n",
      "Date:                Mon, 19 May 2025   Prob (F-statistic):              0.504\n",
      "Time:                        14:32:21   Log-Likelihood:                 1134.3\n",
      "No. Observations:                 371   AIC:                            -2265.\n",
      "Df Residuals:                     369   BIC:                            -2257.\n",
      "Df Model:                           1                                         \n",
      "Covariance Type:            nonrobust                                         \n",
      "=====================================================================================\n",
      "                        coef    std err          t      P>|t|      [0.025      0.975]\n",
      "-------------------------------------------------------------------------------------\n",
      "const                 0.0004      0.001      0.618      0.537      -0.001       0.002\n",
      "numeric_sentiment    -0.0008      0.001     -0.669      0.504      -0.003       0.002\n",
      "==============================================================================\n",
      "Omnibus:                       31.983   Durbin-Watson:                   2.071\n",
      "Prob(Omnibus):                  0.000   Jarque-Bera (JB):              137.822\n",
      "Skew:                          -0.121   Prob(JB):                     1.18e-30\n",
      "Kurtosis:                       5.976   Cond. No.                         2.19\n",
      "==============================================================================\n",
      "\n",
      "Notes:\n",
      "[1] Standard Errors assume that the covariance matrix of the errors is correctly specified.\n",
      "--------------------------------------------------------------------------------\n",
      "\n",
      "Regression results for GSG:\n",
      "                            OLS Regression Results                            \n",
      "==============================================================================\n",
      "Dep. Variable:                    GSG   R-squared:                       0.011\n",
      "Model:                            OLS   Adj. R-squared:                  0.009\n",
      "Method:                 Least Squares   F-statistic:                     4.214\n",
      "Date:                Mon, 19 May 2025   Prob (F-statistic):             0.0408\n",
      "Time:                        14:32:21   Log-Likelihood:                 1163.1\n",
      "No. Observations:                 371   AIC:                            -2322.\n",
      "Df Residuals:                     369   BIC:                            -2314.\n",
      "Df Model:                           1                                         \n",
      "Covariance Type:            nonrobust                                         \n",
      "=====================================================================================\n",
      "                        coef    std err          t      P>|t|      [0.025      0.975]\n",
      "-------------------------------------------------------------------------------------\n",
      "const                -0.0003      0.001     -0.545      0.586      -0.001       0.001\n",
      "numeric_sentiment    -0.0024      0.001     -2.053      0.041      -0.005   -9.98e-05\n",
      "==============================================================================\n",
      "Omnibus:                       15.822   Durbin-Watson:                   1.993\n",
      "Prob(Omnibus):                  0.000   Jarque-Bera (JB):               37.991\n",
      "Skew:                          -0.062   Prob(JB):                     5.63e-09\n",
      "Kurtosis:                       4.563   Cond. No.                         2.19\n",
      "==============================================================================\n",
      "\n",
      "Notes:\n",
      "[1] Standard Errors assume that the covariance matrix of the errors is correctly specified.\n",
      "--------------------------------------------------------------------------------\n",
      "\n",
      "Regression results for HYG:\n",
      "                            OLS Regression Results                            \n",
      "==============================================================================\n",
      "Dep. Variable:                    HYG   R-squared:                       0.002\n",
      "Model:                            OLS   Adj. R-squared:                 -0.001\n",
      "Method:                 Least Squares   F-statistic:                    0.6942\n",
      "Date:                Mon, 19 May 2025   Prob (F-statistic):              0.405\n",
      "Time:                        14:32:21   Log-Likelihood:                 1557.1\n",
      "No. Observations:                 371   AIC:                            -3110.\n",
      "Df Residuals:                     369   BIC:                            -3102.\n",
      "Df Model:                           1                                         \n",
      "Covariance Type:            nonrobust                                         \n",
      "=====================================================================================\n",
      "                        coef    std err          t      P>|t|      [0.025      0.975]\n",
      "-------------------------------------------------------------------------------------\n",
      "const                 0.0003      0.000      1.329      0.185      -0.000       0.001\n",
      "numeric_sentiment    -0.0003      0.000     -0.833      0.405      -0.001       0.000\n",
      "==============================================================================\n",
      "Omnibus:                       90.590   Durbin-Watson:                   2.090\n",
      "Prob(Omnibus):                  0.000   Jarque-Bera (JB):             1542.263\n",
      "Skew:                           0.486   Prob(JB):                         0.00\n",
      "Kurtosis:                      12.941   Cond. No.                         2.19\n",
      "==============================================================================\n",
      "\n",
      "Notes:\n",
      "[1] Standard Errors assume that the covariance matrix of the errors is correctly specified.\n",
      "--------------------------------------------------------------------------------\n"
     ]
    },
    {
     "name": "stderr",
     "output_type": "stream",
     "text": [
      "/var/folders/b_/87z_y1k156v1lhn4cngf1jgr0000gn/T/ipykernel_59402/2223758320.py:35: FutureWarning: Series.__getitem__ treating keys as positions is deprecated. In a future version, integer keys will always be treated as labels (consistent with DataFrame behavior). To access a value by position, use `ser.iloc[pos]`\n",
      "  p_vals.append(results.pvalues[1])  # p-value for the sentiment coefficient\n",
      "/var/folders/b_/87z_y1k156v1lhn4cngf1jgr0000gn/T/ipykernel_59402/2223758320.py:36: FutureWarning: Series.__getitem__ treating keys as positions is deprecated. In a future version, integer keys will always be treated as labels (consistent with DataFrame behavior). To access a value by position, use `ser.iloc[pos]`\n",
      "  betas.append(results.params[1])  # beta coefficient for the sentiment\n",
      "/var/folders/b_/87z_y1k156v1lhn4cngf1jgr0000gn/T/ipykernel_59402/2223758320.py:35: FutureWarning: Series.__getitem__ treating keys as positions is deprecated. In a future version, integer keys will always be treated as labels (consistent with DataFrame behavior). To access a value by position, use `ser.iloc[pos]`\n",
      "  p_vals.append(results.pvalues[1])  # p-value for the sentiment coefficient\n",
      "/var/folders/b_/87z_y1k156v1lhn4cngf1jgr0000gn/T/ipykernel_59402/2223758320.py:36: FutureWarning: Series.__getitem__ treating keys as positions is deprecated. In a future version, integer keys will always be treated as labels (consistent with DataFrame behavior). To access a value by position, use `ser.iloc[pos]`\n",
      "  betas.append(results.params[1])  # beta coefficient for the sentiment\n",
      "/var/folders/b_/87z_y1k156v1lhn4cngf1jgr0000gn/T/ipykernel_59402/2223758320.py:35: FutureWarning: Series.__getitem__ treating keys as positions is deprecated. In a future version, integer keys will always be treated as labels (consistent with DataFrame behavior). To access a value by position, use `ser.iloc[pos]`\n",
      "  p_vals.append(results.pvalues[1])  # p-value for the sentiment coefficient\n",
      "/var/folders/b_/87z_y1k156v1lhn4cngf1jgr0000gn/T/ipykernel_59402/2223758320.py:36: FutureWarning: Series.__getitem__ treating keys as positions is deprecated. In a future version, integer keys will always be treated as labels (consistent with DataFrame behavior). To access a value by position, use `ser.iloc[pos]`\n",
      "  betas.append(results.params[1])  # beta coefficient for the sentiment\n",
      "/var/folders/b_/87z_y1k156v1lhn4cngf1jgr0000gn/T/ipykernel_59402/2223758320.py:35: FutureWarning: Series.__getitem__ treating keys as positions is deprecated. In a future version, integer keys will always be treated as labels (consistent with DataFrame behavior). To access a value by position, use `ser.iloc[pos]`\n",
      "  p_vals.append(results.pvalues[1])  # p-value for the sentiment coefficient\n",
      "/var/folders/b_/87z_y1k156v1lhn4cngf1jgr0000gn/T/ipykernel_59402/2223758320.py:36: FutureWarning: Series.__getitem__ treating keys as positions is deprecated. In a future version, integer keys will always be treated as labels (consistent with DataFrame behavior). To access a value by position, use `ser.iloc[pos]`\n",
      "  betas.append(results.params[1])  # beta coefficient for the sentiment\n",
      "/var/folders/b_/87z_y1k156v1lhn4cngf1jgr0000gn/T/ipykernel_59402/2223758320.py:35: FutureWarning: Series.__getitem__ treating keys as positions is deprecated. In a future version, integer keys will always be treated as labels (consistent with DataFrame behavior). To access a value by position, use `ser.iloc[pos]`\n",
      "  p_vals.append(results.pvalues[1])  # p-value for the sentiment coefficient\n",
      "/var/folders/b_/87z_y1k156v1lhn4cngf1jgr0000gn/T/ipykernel_59402/2223758320.py:36: FutureWarning: Series.__getitem__ treating keys as positions is deprecated. In a future version, integer keys will always be treated as labels (consistent with DataFrame behavior). To access a value by position, use `ser.iloc[pos]`\n",
      "  betas.append(results.params[1])  # beta coefficient for the sentiment\n",
      "/var/folders/b_/87z_y1k156v1lhn4cngf1jgr0000gn/T/ipykernel_59402/2223758320.py:35: FutureWarning: Series.__getitem__ treating keys as positions is deprecated. In a future version, integer keys will always be treated as labels (consistent with DataFrame behavior). To access a value by position, use `ser.iloc[pos]`\n",
      "  p_vals.append(results.pvalues[1])  # p-value for the sentiment coefficient\n",
      "/var/folders/b_/87z_y1k156v1lhn4cngf1jgr0000gn/T/ipykernel_59402/2223758320.py:36: FutureWarning: Series.__getitem__ treating keys as positions is deprecated. In a future version, integer keys will always be treated as labels (consistent with DataFrame behavior). To access a value by position, use `ser.iloc[pos]`\n",
      "  betas.append(results.params[1])  # beta coefficient for the sentiment\n",
      "/var/folders/b_/87z_y1k156v1lhn4cngf1jgr0000gn/T/ipykernel_59402/2223758320.py:35: FutureWarning: Series.__getitem__ treating keys as positions is deprecated. In a future version, integer keys will always be treated as labels (consistent with DataFrame behavior). To access a value by position, use `ser.iloc[pos]`\n",
      "  p_vals.append(results.pvalues[1])  # p-value for the sentiment coefficient\n",
      "/var/folders/b_/87z_y1k156v1lhn4cngf1jgr0000gn/T/ipykernel_59402/2223758320.py:36: FutureWarning: Series.__getitem__ treating keys as positions is deprecated. In a future version, integer keys will always be treated as labels (consistent with DataFrame behavior). To access a value by position, use `ser.iloc[pos]`\n",
      "  betas.append(results.params[1])  # beta coefficient for the sentiment\n",
      "/var/folders/b_/87z_y1k156v1lhn4cngf1jgr0000gn/T/ipykernel_59402/2223758320.py:35: FutureWarning: Series.__getitem__ treating keys as positions is deprecated. In a future version, integer keys will always be treated as labels (consistent with DataFrame behavior). To access a value by position, use `ser.iloc[pos]`\n",
      "  p_vals.append(results.pvalues[1])  # p-value for the sentiment coefficient\n",
      "/var/folders/b_/87z_y1k156v1lhn4cngf1jgr0000gn/T/ipykernel_59402/2223758320.py:36: FutureWarning: Series.__getitem__ treating keys as positions is deprecated. In a future version, integer keys will always be treated as labels (consistent with DataFrame behavior). To access a value by position, use `ser.iloc[pos]`\n",
      "  betas.append(results.params[1])  # beta coefficient for the sentiment\n",
      "/var/folders/b_/87z_y1k156v1lhn4cngf1jgr0000gn/T/ipykernel_59402/2223758320.py:35: FutureWarning: Series.__getitem__ treating keys as positions is deprecated. In a future version, integer keys will always be treated as labels (consistent with DataFrame behavior). To access a value by position, use `ser.iloc[pos]`\n",
      "  p_vals.append(results.pvalues[1])  # p-value for the sentiment coefficient\n",
      "/var/folders/b_/87z_y1k156v1lhn4cngf1jgr0000gn/T/ipykernel_59402/2223758320.py:36: FutureWarning: Series.__getitem__ treating keys as positions is deprecated. In a future version, integer keys will always be treated as labels (consistent with DataFrame behavior). To access a value by position, use `ser.iloc[pos]`\n",
      "  betas.append(results.params[1])  # beta coefficient for the sentiment\n",
      "/var/folders/b_/87z_y1k156v1lhn4cngf1jgr0000gn/T/ipykernel_59402/2223758320.py:35: FutureWarning: Series.__getitem__ treating keys as positions is deprecated. In a future version, integer keys will always be treated as labels (consistent with DataFrame behavior). To access a value by position, use `ser.iloc[pos]`\n",
      "  p_vals.append(results.pvalues[1])  # p-value for the sentiment coefficient\n",
      "/var/folders/b_/87z_y1k156v1lhn4cngf1jgr0000gn/T/ipykernel_59402/2223758320.py:36: FutureWarning: Series.__getitem__ treating keys as positions is deprecated. In a future version, integer keys will always be treated as labels (consistent with DataFrame behavior). To access a value by position, use `ser.iloc[pos]`\n",
      "  betas.append(results.params[1])  # beta coefficient for the sentiment\n",
      "/var/folders/b_/87z_y1k156v1lhn4cngf1jgr0000gn/T/ipykernel_59402/2223758320.py:35: FutureWarning: Series.__getitem__ treating keys as positions is deprecated. In a future version, integer keys will always be treated as labels (consistent with DataFrame behavior). To access a value by position, use `ser.iloc[pos]`\n",
      "  p_vals.append(results.pvalues[1])  # p-value for the sentiment coefficient\n",
      "/var/folders/b_/87z_y1k156v1lhn4cngf1jgr0000gn/T/ipykernel_59402/2223758320.py:36: FutureWarning: Series.__getitem__ treating keys as positions is deprecated. In a future version, integer keys will always be treated as labels (consistent with DataFrame behavior). To access a value by position, use `ser.iloc[pos]`\n",
      "  betas.append(results.params[1])  # beta coefficient for the sentiment\n",
      "/var/folders/b_/87z_y1k156v1lhn4cngf1jgr0000gn/T/ipykernel_59402/2223758320.py:35: FutureWarning: Series.__getitem__ treating keys as positions is deprecated. In a future version, integer keys will always be treated as labels (consistent with DataFrame behavior). To access a value by position, use `ser.iloc[pos]`\n",
      "  p_vals.append(results.pvalues[1])  # p-value for the sentiment coefficient\n",
      "/var/folders/b_/87z_y1k156v1lhn4cngf1jgr0000gn/T/ipykernel_59402/2223758320.py:36: FutureWarning: Series.__getitem__ treating keys as positions is deprecated. In a future version, integer keys will always be treated as labels (consistent with DataFrame behavior). To access a value by position, use `ser.iloc[pos]`\n",
      "  betas.append(results.params[1])  # beta coefficient for the sentiment\n"
     ]
    }
   ],
   "source": [
    "import statsmodels.api as sm\n",
    "\n",
    "p_vals = []\n",
    "betas = []\n",
    "# Run regressions\n",
    "# Iterate over each stock ticker column (excluding 'numeric_sentiment')\n",
    "for ticker in returns_df.columns:\n",
    "    print(f\"\\nRegression results for {ticker}:\")\n",
    "    \n",
    "    # Define dependent (Y) and independent (X) variables\n",
    "    Y = merged_df[ticker].copy()\n",
    "    X = merged_df['numeric_sentiment'].copy()\n",
    "    \n",
    "    # Drop rows where Y is NaN (e.g., if a stock didn't trade on a particular day after initial processing)\n",
    "    # This also handles cases where X might be NaN if ffill/fill(0) didn't cover everything, though it should.\n",
    "    valid_data_idx = Y.notna() & X.notna()\n",
    "    Y = Y[valid_data_idx]\n",
    "    X = X[valid_data_idx]\n",
    "\n",
    "    if len(Y) < 2 or len(X) < 2: # Not enough data points for regression\n",
    "        print(f\"Skipping {ticker} due to insufficient data after NaN removal (points: {len(Y)}).\")\n",
    "        continue\n",
    "    if X.nunique() == 1: # Independent variable is constant\n",
    "        print(f\"Skipping {ticker} because sentiment score is constant for the available data.\")\n",
    "        continue\n",
    "\n",
    "    # Add a constant for the intercept term\n",
    "    X = sm.add_constant(X)\n",
    "    \n",
    "    # Fit the OLS model\n",
    "    model = sm.OLS(Y, X)\n",
    "    results = model.fit()\n",
    "\n",
    "    # Store p-value and beta coefficient\n",
    "    p_vals.append(results.pvalues[1])  # p-value for the sentiment coefficient\n",
    "    betas.append(results.params[1])  # beta coefficient for the sentiment\n",
    "    \n",
    "    # Print the summary\n",
    "    print(results.summary())\n",
    "    print(\"-\" * 80)\n"
   ]
  },
  {
   "cell_type": "code",
   "execution_count": 18,
   "id": "4d38f9df",
   "metadata": {},
   "outputs": [
    {
     "data": {
      "text/html": [
       "<div>\n",
       "<style scoped>\n",
       "    .dataframe tbody tr th:only-of-type {\n",
       "        vertical-align: middle;\n",
       "    }\n",
       "\n",
       "    .dataframe tbody tr th {\n",
       "        vertical-align: top;\n",
       "    }\n",
       "\n",
       "    .dataframe thead th {\n",
       "        text-align: right;\n",
       "    }\n",
       "</style>\n",
       "<table border=\"1\" class=\"dataframe\">\n",
       "  <thead>\n",
       "    <tr style=\"text-align: right;\">\n",
       "      <th></th>\n",
       "      <th>Ticker</th>\n",
       "      <th>P-Value</th>\n",
       "      <th>Beta</th>\n",
       "    </tr>\n",
       "  </thead>\n",
       "  <tbody>\n",
       "    <tr>\n",
       "      <th>0</th>\n",
       "      <td>SPY</td>\n",
       "      <td>0.014684</td>\n",
       "      <td>-0.002984</td>\n",
       "    </tr>\n",
       "    <tr>\n",
       "      <th>1</th>\n",
       "      <td>QQQ</td>\n",
       "      <td>0.015446</td>\n",
       "      <td>-0.003769</td>\n",
       "    </tr>\n",
       "    <tr>\n",
       "      <th>2</th>\n",
       "      <td>IWM</td>\n",
       "      <td>0.102616</td>\n",
       "      <td>-0.002587</td>\n",
       "    </tr>\n",
       "    <tr>\n",
       "      <th>3</th>\n",
       "      <td>EFA</td>\n",
       "      <td>0.372123</td>\n",
       "      <td>-0.000970</td>\n",
       "    </tr>\n",
       "    <tr>\n",
       "      <th>4</th>\n",
       "      <td>EEM</td>\n",
       "      <td>0.282616</td>\n",
       "      <td>-0.001312</td>\n",
       "    </tr>\n",
       "    <tr>\n",
       "      <th>5</th>\n",
       "      <td>AGG</td>\n",
       "      <td>0.086311</td>\n",
       "      <td>0.000673</td>\n",
       "    </tr>\n",
       "    <tr>\n",
       "      <th>6</th>\n",
       "      <td>TLT</td>\n",
       "      <td>0.026619</td>\n",
       "      <td>0.002232</td>\n",
       "    </tr>\n",
       "    <tr>\n",
       "      <th>7</th>\n",
       "      <td>GLD</td>\n",
       "      <td>0.698177</td>\n",
       "      <td>0.000443</td>\n",
       "    </tr>\n",
       "    <tr>\n",
       "      <th>8</th>\n",
       "      <td>USO</td>\n",
       "      <td>0.023515</td>\n",
       "      <td>-0.004492</td>\n",
       "    </tr>\n",
       "    <tr>\n",
       "      <th>9</th>\n",
       "      <td>VNQ</td>\n",
       "      <td>0.503622</td>\n",
       "      <td>-0.000835</td>\n",
       "    </tr>\n",
       "    <tr>\n",
       "      <th>10</th>\n",
       "      <td>GSG</td>\n",
       "      <td>0.040785</td>\n",
       "      <td>-0.002369</td>\n",
       "    </tr>\n",
       "    <tr>\n",
       "      <th>11</th>\n",
       "      <td>HYG</td>\n",
       "      <td>0.405269</td>\n",
       "      <td>-0.000332</td>\n",
       "    </tr>\n",
       "  </tbody>\n",
       "</table>\n",
       "</div>"
      ],
      "text/plain": [
       "   Ticker   P-Value      Beta\n",
       "0     SPY  0.014684 -0.002984\n",
       "1     QQQ  0.015446 -0.003769\n",
       "2     IWM  0.102616 -0.002587\n",
       "3     EFA  0.372123 -0.000970\n",
       "4     EEM  0.282616 -0.001312\n",
       "5     AGG  0.086311  0.000673\n",
       "6     TLT  0.026619  0.002232\n",
       "7     GLD  0.698177  0.000443\n",
       "8     USO  0.023515 -0.004492\n",
       "9     VNQ  0.503622 -0.000835\n",
       "10    GSG  0.040785 -0.002369\n",
       "11    HYG  0.405269 -0.000332"
      ]
     },
     "execution_count": 18,
     "metadata": {},
     "output_type": "execute_result"
    }
   ],
   "source": [
    "# make a DataFrame for p-values and betas with ticker\n",
    "p_vals_df = pd.DataFrame({\n",
    "    'Ticker': returns_df.columns,\n",
    "    'P-Value': p_vals,\n",
    "    'Beta': betas\n",
    "})\n",
    "p_vals_df"
   ]
  },
  {
   "cell_type": "markdown",
   "id": "dd82246d",
   "metadata": {},
   "source": [
    "# GARCH"
   ]
  },
  {
   "cell_type": "code",
   "execution_count": 19,
   "id": "3fe674cf",
   "metadata": {},
   "outputs": [
    {
     "name": "stdout",
     "output_type": "stream",
     "text": [
      "Requirement already satisfied: arch in /opt/homebrew/anaconda3/envs/quant/lib/python3.12/site-packages (7.2.0)\n",
      "Requirement already satisfied: numpy>=1.22.3 in /opt/homebrew/anaconda3/envs/quant/lib/python3.12/site-packages (from arch) (1.26.4)\n",
      "Requirement already satisfied: scipy>=1.8 in /opt/homebrew/anaconda3/envs/quant/lib/python3.12/site-packages (from arch) (1.15.1)\n",
      "Requirement already satisfied: pandas>=1.4 in /opt/homebrew/anaconda3/envs/quant/lib/python3.12/site-packages (from arch) (2.2.3)\n",
      "Requirement already satisfied: statsmodels>=0.12 in /opt/homebrew/anaconda3/envs/quant/lib/python3.12/site-packages (from arch) (0.14.4)\n",
      "Requirement already satisfied: python-dateutil>=2.8.2 in /opt/homebrew/anaconda3/envs/quant/lib/python3.12/site-packages (from pandas>=1.4->arch) (2.9.0.post0)\n",
      "Requirement already satisfied: pytz>=2020.1 in /opt/homebrew/anaconda3/envs/quant/lib/python3.12/site-packages (from pandas>=1.4->arch) (2024.1)\n",
      "Requirement already satisfied: tzdata>=2022.7 in /opt/homebrew/anaconda3/envs/quant/lib/python3.12/site-packages (from pandas>=1.4->arch) (2023.3)\n",
      "Requirement already satisfied: patsy>=0.5.6 in /opt/homebrew/anaconda3/envs/quant/lib/python3.12/site-packages (from statsmodels>=0.12->arch) (0.5.6)\n",
      "Requirement already satisfied: packaging>=21.3 in /opt/homebrew/anaconda3/envs/quant/lib/python3.12/site-packages (from statsmodels>=0.12->arch) (24.2)\n",
      "Requirement already satisfied: six in /opt/homebrew/anaconda3/envs/quant/lib/python3.12/site-packages (from patsy>=0.5.6->statsmodels>=0.12->arch) (1.16.0)\n"
     ]
    }
   ],
   "source": [
    "!pip install arch\n",
    "from arch import arch_model"
   ]
  },
  {
   "cell_type": "code",
   "execution_count": 26,
   "id": "3bbc4c36",
   "metadata": {},
   "outputs": [
    {
     "data": {
      "text/plain": [
       "<Axes: xlabel='date'>"
      ]
     },
     "execution_count": 26,
     "metadata": {},
     "output_type": "execute_result"
    },
    {
     "data": {
      "image/png": "[encoded data removed]",
      "text/plain": [
       "<Figure size 640x480 with 1 Axes>"
      ]
     },
     "metadata": {},
     "output_type": "display_data"
    }
   ],
   "source": [
    "merged_df['numeric_sentiment'].plot()"
   ]
  },
  {
   "cell_type": "code",
   "execution_count": 20,
   "id": "c467ac4f",
   "metadata": {},
   "outputs": [
    {
     "name": "stdout",
     "output_type": "stream",
     "text": [
      "\n",
      "Running GARCH(1,1) model for SPY with sentiment as exogenous variable in mean equation...\n",
      "                     Constant Mean - GARCH Model Results                      \n",
      "==============================================================================\n",
      "Dep. Variable:                    SPY   R-squared:                       0.000\n",
      "Mean Model:             Constant Mean   Adj. R-squared:                  0.000\n",
      "Vol Model:                      GARCH   Log-Likelihood:               -490.657\n",
      "Distribution:                  Normal   AIC:                           989.314\n",
      "Method:            Maximum Likelihood   BIC:                           1004.98\n",
      "                                        No. Observations:                  371\n",
      "Date:                Mon, May 19 2025   Df Residuals:                      370\n",
      "Time:                        14:32:29   Df Model:                            1\n",
      "                                Mean Model                                \n",
      "==========================================================================\n",
      "                 coef    std err          t      P>|t|    95.0% Conf. Int.\n",
      "--------------------------------------------------------------------------\n",
      "mu             0.1036  3.931e-02      2.635  8.419e-03 [2.653e-02,  0.181]\n",
      "                              Volatility Model                             \n",
      "===========================================================================\n",
      "                 coef    std err          t      P>|t|     95.0% Conf. Int.\n",
      "---------------------------------------------------------------------------\n",
      "omega          0.0459  3.094e-02      1.483      0.138 [-1.475e-02,  0.107]\n",
      "alpha[1]       0.1335  5.242e-02      2.546  1.089e-02  [3.073e-02,  0.236]\n",
      "beta[1]        0.8309  5.997e-02     13.855  1.188e-43    [  0.713,  0.948]\n",
      "===========================================================================\n",
      "\n",
      "Covariance estimator: robust\n"
     ]
    },
    {
     "data": {
      "image/png": "[encoded data removed]",
      "text/plain": [
       "<Figure size 640x480 with 2 Axes>"
      ]
     },
     "metadata": {},
     "output_type": "display_data"
    }
   ],
   "source": [
    "merged_df = merged_df.dropna()  # Ensure no NaNs for GARCH analysis\n",
    "# Select a ticker for GARCH analysis, e.g., SPY\n",
    "ticker_to_analyze = 'SPY'\n",
    "\n",
    "# Prepare data for the chosen ticker\n",
    "# GARCH models typically work with returns (percentage change * 100 for numerical stability)\n",
    "Y_garch = merged_df[ticker_to_analyze].dropna() * 100 \n",
    "X_garch = merged_df['numeric_sentiment'][Y_garch.index] # Align sentiment with available returns\n",
    "\n",
    "# Ensure X_garch is 2D for arch_model (if it's a Series)\n",
    "if isinstance(X_garch, pd.Series):\n",
    "    X_garch = X_garch.to_frame()\n",
    "\n",
    "# Check for constant sentiment again, specifically for the Y_garch.index range\n",
    "if X_garch['numeric_sentiment'].nunique() == 1:\n",
    "    print(f\"Skipping GARCH for {ticker_to_analyze} because sentiment score is constant for the available data.\")\n",
    "else:\n",
    "    print(f\"\\nRunning GARCH(1,1) model for {ticker_to_analyze} with sentiment as exogenous variable in mean equation...\")\n",
    "    \n",
    "    # Define the GARCH(1,1) model\n",
    "    # We include sentiment in the mean equation (x=X_garch)\n",
    "    # p=1, q=1 for GARCH(1,1)\n",
    "    # vol='Garch' specifies the GARCH volatility process\n",
    "    # dist='Normal' assumes normally distributed errors, can try 't' for fatter tails\n",
    "    garch_model = arch_model(Y_garch, x=X_garch, vol='Garch', p=1, q=1, dist='Normal')\n",
    "    \n",
    "    # Fit the model\n",
    "    # disp='off' suppresses convergence output, can be set to 'iter' or 'final'\n",
    "    garch_results = garch_model.fit(disp='off')\n",
    "    \n",
    "    # Print the summary\n",
    "    print(garch_results.summary())\n",
    "    \n",
    "    # Plotting conditional volatility\n",
    "    fig = garch_results.plot(annualize='D') # 'D' for daily data\n",
    "    plt.suptitle(f'Conditional Volatility for {ticker_to_analyze} (GARCH(1,1) with Sentiment)', y=1.02)\n",
    "    plt.show()\n"
   ]
  },
  {
   "cell_type": "markdown",
   "id": "ec72c284",
   "metadata": {},
   "source": [
    "# GRANGER CAUSALITY TEST"
   ]
  },
  {
   "cell_type": "code",
   "execution_count": 29,
   "id": "82b11007",
   "metadata": {},
   "outputs": [
    {
     "name": "stdout",
     "output_type": "stream",
     "text": [
      "\n",
      "Running Granger Causality Tests (max_lags=5):\n",
      "Null Hypothesis: Sentiment does NOT Granger-cause Stock Returns\n",
      "--------------------------------------------------------------------------------\n",
      "\n",
      "Granger Causality Test for SPY returns vs. Sentiment:\n",
      "Results for SPY:\n",
      "  Lag 1:\n",
      "    F-test (SSR based) p-value: 0.0095\n",
      "    F-test (params based) p-value: 0.0095\n",
      "  Lag 2:\n",
      "    F-test (SSR based) p-value: 0.0297\n",
      "    F-test (params based) p-value: 0.0297\n",
      "  Lag 3:\n",
      "    F-test (SSR based) p-value: 0.0081\n",
      "    F-test (params based) p-value: 0.0081\n",
      "  Lag 4:\n",
      "    F-test (SSR based) p-value: 0.0200\n",
      "    F-test (params based) p-value: 0.0200\n",
      "  Lag 5:\n",
      "    F-test (SSR based) p-value: 0.0160\n",
      "    F-test (params based) p-value: 0.0160\n",
      "  Conclusion for SPY: Potential Granger causality indicated at one or more lags (p < 0.05).\n",
      "--------------------------------------------------\n",
      "\n",
      "Granger Causality Test for QQQ returns vs. Sentiment:\n",
      "Results for QQQ:\n",
      "  Lag 1:\n",
      "    F-test (SSR based) p-value: 0.0158\n",
      "    F-test (params based) p-value: 0.0158\n",
      "  Lag 2:\n",
      "    F-test (SSR based) p-value: 0.0392\n",
      "    F-test (params based) p-value: 0.0392\n",
      "  Lag 3:\n",
      "    F-test (SSR based) p-value: 0.0247\n",
      "    F-test (params based) p-value: 0.0247\n",
      "  Lag 4:\n",
      "    F-test (SSR based) p-value: 0.0542\n",
      "    F-test (params based) p-value: 0.0542\n",
      "  Lag 5:\n",
      "    F-test (SSR based) p-value: 0.0314\n",
      "    F-test (params based) p-value: 0.0314\n",
      "  Conclusion for QQQ: Potential Granger causality indicated at one or more lags (p < 0.05).\n",
      "--------------------------------------------------\n",
      "\n",
      "Granger Causality Test for IWM returns vs. Sentiment:\n",
      "Results for IWM:\n",
      "  Lag 1:\n",
      "    F-test (SSR based) p-value: 0.0194\n",
      "    F-test (params based) p-value: 0.0194\n",
      "  Lag 2:\n",
      "    F-test (SSR based) p-value: 0.0469\n",
      "    F-test (params based) p-value: 0.0469\n",
      "  Lag 3:\n",
      "    F-test (SSR based) p-value: 0.0167\n",
      "    F-test (params based) p-value: 0.0167\n",
      "  Lag 4:\n",
      "    F-test (SSR based) p-value: 0.0325\n",
      "    F-test (params based) p-value: 0.0325\n",
      "  Lag 5:\n",
      "    F-test (SSR based) p-value: 0.0506\n",
      "    F-test (params based) p-value: 0.0506\n",
      "  Conclusion for IWM: Potential Granger causality indicated at one or more lags (p < 0.05).\n",
      "--------------------------------------------------\n",
      "\n",
      "Granger Causality Test for EFA returns vs. Sentiment:\n",
      "Results for EFA:\n",
      "  Lag 1:\n",
      "    F-test (SSR based) p-value: 0.1867\n",
      "    F-test (params based) p-value: 0.1867\n",
      "  Lag 2:\n",
      "    F-test (SSR based) p-value: 0.1695\n",
      "    F-test (params based) p-value: 0.1695\n",
      "  Lag 3:\n",
      "    F-test (SSR based) p-value: 0.0789\n",
      "    F-test (params based) p-value: 0.0789\n",
      "  Lag 4:\n",
      "    F-test (SSR based) p-value: 0.1434\n",
      "    F-test (params based) p-value: 0.1434\n",
      "  Lag 5:\n",
      "    F-test (SSR based) p-value: 0.1734\n",
      "    F-test (params based) p-value: 0.1734\n",
      "  Conclusion for EFA: No significant evidence of Granger causality found up to 5 lags.\n",
      "--------------------------------------------------\n",
      "\n",
      "Granger Causality Test for EEM returns vs. Sentiment:\n",
      "Results for EEM:\n",
      "  Lag 1:\n",
      "    F-test (SSR based) p-value: 0.1434\n",
      "    F-test (params based) p-value: 0.1434\n",
      "  Lag 2:\n",
      "    F-test (SSR based) p-value: 0.1342\n",
      "    F-test (params based) p-value: 0.1342\n",
      "  Lag 3:\n",
      "    F-test (SSR based) p-value: 0.1733\n",
      "    F-test (params based) p-value: 0.1733\n",
      "  Lag 4:\n",
      "    F-test (SSR based) p-value: 0.2640\n",
      "    F-test (params based) p-value: 0.2640\n",
      "  Lag 5:\n",
      "    F-test (SSR based) p-value: 0.3603\n",
      "    F-test (params based) p-value: 0.3603\n",
      "  Conclusion for EEM: No significant evidence of Granger causality found up to 5 lags.\n",
      "--------------------------------------------------\n",
      "\n",
      "Granger Causality Test for AGG returns vs. Sentiment:\n",
      "Results for AGG:\n",
      "  Lag 1:\n",
      "    F-test (SSR based) p-value: 0.7235\n",
      "    F-test (params based) p-value: 0.7235\n",
      "  Lag 2:\n",
      "    F-test (SSR based) p-value: 0.9143\n",
      "    F-test (params based) p-value: 0.9143\n",
      "  Lag 3:\n",
      "    F-test (SSR based) p-value: 0.9520\n",
      "    F-test (params based) p-value: 0.9520\n",
      "  Lag 4:\n",
      "    F-test (SSR based) p-value: 0.8684\n",
      "    F-test (params based) p-value: 0.8684\n",
      "  Lag 5:\n",
      "    F-test (SSR based) p-value: 0.9587\n",
      "    F-test (params based) p-value: 0.9587\n",
      "  Conclusion for AGG: No significant evidence of Granger causality found up to 5 lags.\n",
      "--------------------------------------------------\n",
      "\n",
      "Granger Causality Test for TLT returns vs. Sentiment:\n",
      "Results for TLT:\n",
      "  Lag 1:\n",
      "    F-test (SSR based) p-value: 0.3268\n",
      "    F-test (params based) p-value: 0.3268\n",
      "  Lag 2:\n",
      "    F-test (SSR based) p-value: 0.5000\n",
      "    F-test (params based) p-value: 0.5000\n",
      "  Lag 3:\n",
      "    F-test (SSR based) p-value: 0.7031\n",
      "    F-test (params based) p-value: 0.7031\n",
      "  Lag 4:\n",
      "    F-test (SSR based) p-value: 0.4859\n",
      "    F-test (params based) p-value: 0.4859\n",
      "  Lag 5:\n",
      "    F-test (SSR based) p-value: 0.6668\n",
      "    F-test (params based) p-value: 0.6668\n",
      "  Conclusion for TLT: No significant evidence of Granger causality found up to 5 lags.\n",
      "--------------------------------------------------\n",
      "\n",
      "Granger Causality Test for GLD returns vs. Sentiment:\n",
      "Results for GLD:\n",
      "  Lag 1:\n",
      "    F-test (SSR based) p-value: 0.8622\n",
      "    F-test (params based) p-value: 0.8622\n",
      "  Lag 2:\n",
      "    F-test (SSR based) p-value: 0.8738\n",
      "    F-test (params based) p-value: 0.8738\n",
      "  Lag 3:\n",
      "    F-test (SSR based) p-value: 0.9517\n",
      "    F-test (params based) p-value: 0.9517\n",
      "  Lag 4:\n",
      "    F-test (SSR based) p-value: 0.9862\n",
      "    F-test (params based) p-value: 0.9862\n",
      "  Lag 5:\n",
      "    F-test (SSR based) p-value: 0.9801\n",
      "    F-test (params based) p-value: 0.9801\n",
      "  Conclusion for GLD: No significant evidence of Granger causality found up to 5 lags.\n",
      "--------------------------------------------------\n",
      "\n",
      "Granger Causality Test for USO returns vs. Sentiment:\n",
      "Results for USO:\n",
      "  Lag 1:\n",
      "    F-test (SSR based) p-value: 0.2093\n",
      "    F-test (params based) p-value: 0.2093\n",
      "  Lag 2:\n",
      "    F-test (SSR based) p-value: 0.0829\n",
      "    F-test (params based) p-value: 0.0829\n",
      "  Lag 3:\n",
      "    F-test (SSR based) p-value: 0.0031\n",
      "    F-test (params based) p-value: 0.0031\n",
      "  Lag 4:\n",
      "    F-test (SSR based) p-value: 0.0072\n",
      "    F-test (params based) p-value: 0.0072\n",
      "  Lag 5:\n",
      "    F-test (SSR based) p-value: 0.0096\n",
      "    F-test (params based) p-value: 0.0096\n",
      "  Conclusion for USO: Potential Granger causality indicated at one or more lags (p < 0.05).\n",
      "--------------------------------------------------\n",
      "\n",
      "Granger Causality Test for VNQ returns vs. Sentiment:\n",
      "Results for VNQ:\n",
      "  Lag 1:\n",
      "    F-test (SSR based) p-value: 0.1793\n",
      "    F-test (params based) p-value: 0.1793\n",
      "  Lag 2:\n",
      "    F-test (SSR based) p-value: 0.3431\n",
      "    F-test (params based) p-value: 0.3431\n",
      "  Lag 3:\n",
      "    F-test (SSR based) p-value: 0.2164\n",
      "    F-test (params based) p-value: 0.2164\n",
      "  Lag 4:\n",
      "    F-test (SSR based) p-value: 0.2663\n",
      "    F-test (params based) p-value: 0.2663\n",
      "  Lag 5:\n",
      "    F-test (SSR based) p-value: 0.3509\n",
      "    F-test (params based) p-value: 0.3509\n",
      "  Conclusion for VNQ: No significant evidence of Granger causality found up to 5 lags.\n",
      "--------------------------------------------------\n",
      "\n",
      "Granger Causality Test for GSG returns vs. Sentiment:\n",
      "Results for GSG:\n",
      "  Lag 1:\n",
      "    F-test (SSR based) p-value: 0.1879\n",
      "    F-test (params based) p-value: 0.1879\n",
      "  Lag 2:\n",
      "    F-test (SSR based) p-value: 0.1052\n",
      "    F-test (params based) p-value: 0.1052\n",
      "  Lag 3:\n",
      "    F-test (SSR based) p-value: 0.0041\n",
      "    F-test (params based) p-value: 0.0041\n",
      "  Lag 4:\n",
      "    F-test (SSR based) p-value: 0.0100\n",
      "    F-test (params based) p-value: 0.0100\n",
      "  Lag 5:\n",
      "    F-test (SSR based) p-value: 0.0173\n",
      "    F-test (params based) p-value: 0.0173\n",
      "  Conclusion for GSG: Potential Granger causality indicated at one or more lags (p < 0.05).\n",
      "--------------------------------------------------\n",
      "\n",
      "Granger Causality Test for HYG returns vs. Sentiment:\n",
      "Results for HYG:\n",
      "  Lag 1:\n",
      "    F-test (SSR based) p-value: 0.1855\n",
      "    F-test (params based) p-value: 0.1855\n",
      "  Lag 2:\n",
      "    F-test (SSR based) p-value: 0.3567\n",
      "    F-test (params based) p-value: 0.3567\n",
      "  Lag 3:\n",
      "    F-test (SSR based) p-value: 0.0967\n",
      "    F-test (params based) p-value: 0.0967\n",
      "  Lag 4:\n",
      "    F-test (SSR based) p-value: 0.0849\n",
      "    F-test (params based) p-value: 0.0849\n",
      "  Lag 5:\n",
      "    F-test (SSR based) p-value: 0.1319\n",
      "    F-test (params based) p-value: 0.1319\n",
      "  Conclusion for HYG: No significant evidence of Granger causality found up to 5 lags.\n",
      "--------------------------------------------------\n",
      "\n",
      "Granger Causality Test Summary:\n",
      "   Ticker                                 P_Values_SSR_FTest  \\\n",
      "0     SPY  [0.009469397789730443, 0.029746830221818635, 0...   \n",
      "1     QQQ  [0.015753121449946648, 0.03915276260261943, 0....   \n",
      "2     IWM  [0.01941064860626488, 0.04691623882981676, 0.0...   \n",
      "3     EFA  [0.18671069402501675, 0.16951615964589445, 0.0...   \n",
      "4     EEM  [0.1434437682856982, 0.13416287325163578, 0.17...   \n",
      "5     AGG  [0.723537149127891, 0.9142528387088306, 0.9519...   \n",
      "6     TLT  [0.32678329593264155, 0.5000096637693492, 0.70...   \n",
      "7     GLD  [0.862188980111933, 0.873769564354826, 0.95168...   \n",
      "8     USO  [0.20927749991047487, 0.0829212288923268, 0.00...   \n",
      "9     VNQ  [0.17926207329179814, 0.34313556973865256, 0.2...   \n",
      "10    GSG  [0.18787965656384636, 0.10523531683159322, 0.0...   \n",
      "11    HYG  [0.18546279468723456, 0.35668752865601155, 0.0...   \n",
      "\n",
      "                                P_Values_Params_FTest  Is_Granger_Caused  \\\n",
      "0   [0.009469397789730577, 0.029746830221817233, 0...               True   \n",
      "1   [0.015753121449946648, 0.03915276260262027, 0....               True   \n",
      "2   [0.019410648606263802, 0.04691623882981801, 0....               True   \n",
      "3   [0.18671069402501675, 0.16951615964588906, 0.0...              False   \n",
      "4   [0.143443768285711, 0.13416287325163578, 0.173...              False   \n",
      "5   [0.7235371491277186, 0.914252838708886, 0.9519...              False   \n",
      "6   [0.3267832959326519, 0.500009663769309, 0.7031...              False   \n",
      "7   [0.862188980112025, 0.8737695643547729, 0.9516...              False   \n",
      "8   [0.2092774999104966, 0.08292122889232915, 0.00...               True   \n",
      "9   [0.17926207329181698, 0.3431355697386802, 0.21...              False   \n",
      "10  [0.18787965656383648, 0.10523531683159322, 0.0...               True   \n",
      "11  [0.1854627946872346, 0.3566875286559686, 0.096...              False   \n",
      "\n",
      "   Status  \n",
      "0      OK  \n",
      "1      OK  \n",
      "2      OK  \n",
      "3      OK  \n",
      "4      OK  \n",
      "5      OK  \n",
      "6      OK  \n",
      "7      OK  \n",
      "8      OK  \n",
      "9      OK  \n",
      "10     OK  \n",
      "11     OK  \n",
      "\n",
      "Summary saved to granger_causality_summary.csv\n"
     ]
    },
    {
     "name": "stderr",
     "output_type": "stream",
     "text": [
      "/opt/homebrew/anaconda3/envs/quant/lib/python3.12/site-packages/statsmodels/tsa/stattools.py:1556: FutureWarning: verbose is deprecated since functions should not print results\n",
      "  warnings.warn(\n",
      "/opt/homebrew/anaconda3/envs/quant/lib/python3.12/site-packages/statsmodels/tsa/stattools.py:1556: FutureWarning: verbose is deprecated since functions should not print results\n",
      "  warnings.warn(\n",
      "/opt/homebrew/anaconda3/envs/quant/lib/python3.12/site-packages/statsmodels/tsa/stattools.py:1556: FutureWarning: verbose is deprecated since functions should not print results\n",
      "  warnings.warn(\n",
      "/opt/homebrew/anaconda3/envs/quant/lib/python3.12/site-packages/statsmodels/tsa/stattools.py:1556: FutureWarning: verbose is deprecated since functions should not print results\n",
      "  warnings.warn(\n",
      "/opt/homebrew/anaconda3/envs/quant/lib/python3.12/site-packages/statsmodels/tsa/stattools.py:1556: FutureWarning: verbose is deprecated since functions should not print results\n",
      "  warnings.warn(\n",
      "/opt/homebrew/anaconda3/envs/quant/lib/python3.12/site-packages/statsmodels/tsa/stattools.py:1556: FutureWarning: verbose is deprecated since functions should not print results\n",
      "  warnings.warn(\n",
      "/opt/homebrew/anaconda3/envs/quant/lib/python3.12/site-packages/statsmodels/tsa/stattools.py:1556: FutureWarning: verbose is deprecated since functions should not print results\n",
      "  warnings.warn(\n",
      "/opt/homebrew/anaconda3/envs/quant/lib/python3.12/site-packages/statsmodels/tsa/stattools.py:1556: FutureWarning: verbose is deprecated since functions should not print results\n",
      "  warnings.warn(\n",
      "/opt/homebrew/anaconda3/envs/quant/lib/python3.12/site-packages/statsmodels/tsa/stattools.py:1556: FutureWarning: verbose is deprecated since functions should not print results\n",
      "  warnings.warn(\n",
      "/opt/homebrew/anaconda3/envs/quant/lib/python3.12/site-packages/statsmodels/tsa/stattools.py:1556: FutureWarning: verbose is deprecated since functions should not print results\n",
      "  warnings.warn(\n",
      "/opt/homebrew/anaconda3/envs/quant/lib/python3.12/site-packages/statsmodels/tsa/stattools.py:1556: FutureWarning: verbose is deprecated since functions should not print results\n",
      "  warnings.warn(\n",
      "/opt/homebrew/anaconda3/envs/quant/lib/python3.12/site-packages/statsmodels/tsa/stattools.py:1556: FutureWarning: verbose is deprecated since functions should not print results\n",
      "  warnings.warn(\n"
     ]
    }
   ],
   "source": [
    "from statsmodels.tsa.stattools import grangercausalitytests\n",
    "import pandas as pd\n",
    "import numpy as np\n",
    "\n",
    "# Ensure merged_df is clean and suitable for time series analysis\n",
    "# Drop rows with any NaN values that might remain, especially if returns data had NaNs\n",
    "causality_df = merged_df.dropna()\n",
    "\n",
    "max_lags = 5 # Define the maximum number of lags to test for Granger causality\n",
    "\n",
    "granger_results_data = [] # Initialize list to store results for DataFrame\n",
    "\n",
    "print(f\"\\nRunning Granger Causality Tests (max_lags={max_lags}):\")\n",
    "print(\"Null Hypothesis: Sentiment does NOT Granger-cause Stock Returns\")\n",
    "print(\"-\" * 80)\n",
    "\n",
    "for ticker in returns_df.columns:\n",
    "    print(f\"\\nGranger Causality Test for {ticker} returns vs. Sentiment:\")\n",
    "    \n",
    "    # Prepare data for the test: [dependent_variable (returns), independent_variable (sentiment)]\n",
    "    test_data = causality_df[[ticker, 'numeric_sentiment']].copy()\n",
    "    \n",
    "    # Initialize values for the summary DataFrame for this ticker\n",
    "    p_values_ssr_list = [np.nan] * max_lags\n",
    "    p_values_params_list = [np.nan] * max_lags\n",
    "    is_granger_caused_flag = False\n",
    "    run_status = \"OK\" # Default status, will be updated if skipped or error\n",
    "\n",
    "    # Check if there's enough data and variance\n",
    "    if len(test_data) < max_lags + 5: # Heuristic for minimum data points\n",
    "        print(f\"Skipping {ticker} due to insufficient data points ({len(test_data)}).\")\n",
    "        run_status = f\"Skipped: Insufficient data ({len(test_data)})\"\n",
    "    elif test_data['numeric_sentiment'].nunique() < 2:\n",
    "        print(f\"Skipping {ticker} because sentiment score is constant.\")\n",
    "        run_status = \"Skipped: Sentiment constant\"\n",
    "    elif test_data[ticker].nunique() < 2:\n",
    "        print(f\"Skipping {ticker} because its returns are constant.\")\n",
    "        run_status = \"Skipped: Returns constant\"\n",
    "    \n",
    "    if run_status == \"OK\": # Proceed with the test only if not skipped\n",
    "        try:\n",
    "            # Perform the Granger causality test\n",
    "            results = grangercausalitytests(test_data, maxlag=max_lags, verbose=False)\n",
    "            \n",
    "            # Process and print results in a more readable format\n",
    "            print(f\"Results for {ticker}:\")\n",
    "            significant_lags_found = False # Re-initialize for current ticker (as in original code)\n",
    "            \n",
    "            temp_p_ssr = []\n",
    "            temp_p_params = []\n",
    "\n",
    "            for lag in range(1, max_lags + 1):\n",
    "                # Ensure results for the lag exist\n",
    "                if lag in results and results[lag] and len(results[lag]) > 0:\n",
    "                    ssr_ftest_result = results[lag][0].get('ssr_ftest')\n",
    "                    params_ftest_result = results[lag][0].get('params_ftest')\n",
    "\n",
    "                    p_value_ssr_ftest = ssr_ftest_result[1] if ssr_ftest_result else np.nan\n",
    "                    p_value_params_ftest = params_ftest_result[1] if params_ftest_result else np.nan\n",
    "                else:\n",
    "                    p_value_ssr_ftest = np.nan\n",
    "                    p_value_params_ftest = np.nan\n",
    "                \n",
    "                temp_p_ssr.append(p_value_ssr_ftest)\n",
    "                temp_p_params.append(p_value_params_ftest)\n",
    "                \n",
    "                print(f\"  Lag {lag}:\")\n",
    "                print(f\"    F-test (SSR based) p-value: {p_value_ssr_ftest:.4f}\")\n",
    "                print(f\"    F-test (params based) p-value: {p_value_params_ftest:.4f}\")\n",
    "                \n",
    "                if (ssr_ftest_result and p_value_ssr_ftest < 0.05) or \\\n",
    "                   (params_ftest_result and p_value_params_ftest < 0.05):\n",
    "                    significant_lags_found = True\n",
    "            \n",
    "            p_values_ssr_list = temp_p_ssr\n",
    "            p_values_params_list = temp_p_params\n",
    "            is_granger_caused_flag = significant_lags_found\n",
    "            \n",
    "            if significant_lags_found:\n",
    "                print(f\"  Conclusion for {ticker}: Potential Granger causality indicated at one or more lags (p < 0.05).\")\n",
    "            else:\n",
    "                print(f\"  Conclusion for {ticker}: No significant evidence of Granger causality found up to {max_lags} lags.\")\n",
    "                \n",
    "        except Exception as e:\n",
    "            print(f\"Could not perform Granger causality test for {ticker}: {e}\")\n",
    "            run_status = f\"Error: {str(e)}\"\n",
    "            # p_values lists remain NaNs, is_granger_caused_flag remains False\n",
    "    \n",
    "    # Append data for the current ticker\n",
    "    granger_results_data.append({\n",
    "        'Ticker': ticker,\n",
    "        'P_Values_SSR_FTest': p_values_ssr_list,\n",
    "        'P_Values_Params_FTest': p_values_params_list,\n",
    "        'Is_Granger_Caused': is_granger_caused_flag,\n",
    "        'Status': run_status\n",
    "    })\n",
    "    print(\"-\" * 50)\n",
    "\n",
    "# After the loop, create and display the summary DataFrame\n",
    "granger_summary_df = pd.DataFrame(granger_results_data)\n",
    "print(\"\\nGranger Causality Test Summary:\")\n",
    "print(granger_summary_df)\n",
    "\n",
    "# Save the DataFrame to a CSV file\n",
    "granger_summary_df.to_csv('granger_causality_summary.csv', index=False)\n",
    "print(\"\\nSummary saved to granger_causality_summary.csv\")"
   ]
  },
  {
   "cell_type": "code",
   "execution_count": 30,
   "id": "1a4214d9",
   "metadata": {},
   "outputs": [
    {
     "data": {
      "text/html": [
       "<div>\n",
       "<style scoped>\n",
       "    .dataframe tbody tr th:only-of-type {\n",
       "        vertical-align: middle;\n",
       "    }\n",
       "\n",
       "    .dataframe tbody tr th {\n",
       "        vertical-align: top;\n",
       "    }\n",
       "\n",
       "    .dataframe thead th {\n",
       "        text-align: right;\n",
       "    }\n",
       "</style>\n",
       "<table border=\"1\" class=\"dataframe\">\n",
       "  <thead>\n",
       "    <tr style=\"text-align: right;\">\n",
       "      <th></th>\n",
       "      <th>Ticker</th>\n",
       "      <th>P_Values_SSR_FTest</th>\n",
       "      <th>P_Values_Params_FTest</th>\n",
       "      <th>Is_Granger_Caused</th>\n",
       "      <th>Status</th>\n",
       "    </tr>\n",
       "  </thead>\n",
       "  <tbody>\n",
       "    <tr>\n",
       "      <th>0</th>\n",
       "      <td>SPY</td>\n",
       "      <td>[0.009469397789730443, 0.029746830221818635, 0...</td>\n",
       "      <td>[0.009469397789730577, 0.029746830221817233, 0...</td>\n",
       "      <td>True</td>\n",
       "      <td>OK</td>\n",
       "    </tr>\n",
       "    <tr>\n",
       "      <th>1</th>\n",
       "      <td>QQQ</td>\n",
       "      <td>[0.015753121449946648, 0.03915276260261943, 0....</td>\n",
       "      <td>[0.015753121449946648, 0.03915276260262027, 0....</td>\n",
       "      <td>True</td>\n",
       "      <td>OK</td>\n",
       "    </tr>\n",
       "    <tr>\n",
       "      <th>2</th>\n",
       "      <td>IWM</td>\n",
       "      <td>[0.01941064860626488, 0.04691623882981676, 0.0...</td>\n",
       "      <td>[0.019410648606263802, 0.04691623882981801, 0....</td>\n",
       "      <td>True</td>\n",
       "      <td>OK</td>\n",
       "    </tr>\n",
       "    <tr>\n",
       "      <th>3</th>\n",
       "      <td>EFA</td>\n",
       "      <td>[0.18671069402501675, 0.16951615964589445, 0.0...</td>\n",
       "      <td>[0.18671069402501675, 0.16951615964588906, 0.0...</td>\n",
       "      <td>False</td>\n",
       "      <td>OK</td>\n",
       "    </tr>\n",
       "    <tr>\n",
       "      <th>4</th>\n",
       "      <td>EEM</td>\n",
       "      <td>[0.1434437682856982, 0.13416287325163578, 0.17...</td>\n",
       "      <td>[0.143443768285711, 0.13416287325163578, 0.173...</td>\n",
       "      <td>False</td>\n",
       "      <td>OK</td>\n",
       "    </tr>\n",
       "    <tr>\n",
       "      <th>5</th>\n",
       "      <td>AGG</td>\n",
       "      <td>[0.723537149127891, 0.9142528387088306, 0.9519...</td>\n",
       "      <td>[0.7235371491277186, 0.914252838708886, 0.9519...</td>\n",
       "      <td>False</td>\n",
       "      <td>OK</td>\n",
       "    </tr>\n",
       "    <tr>\n",
       "      <th>6</th>\n",
       "      <td>TLT</td>\n",
       "      <td>[0.32678329593264155, 0.5000096637693492, 0.70...</td>\n",
       "      <td>[0.3267832959326519, 0.500009663769309, 0.7031...</td>\n",
       "      <td>False</td>\n",
       "      <td>OK</td>\n",
       "    </tr>\n",
       "    <tr>\n",
       "      <th>7</th>\n",
       "      <td>GLD</td>\n",
       "      <td>[0.862188980111933, 0.873769564354826, 0.95168...</td>\n",
       "      <td>[0.862188980112025, 0.8737695643547729, 0.9516...</td>\n",
       "      <td>False</td>\n",
       "      <td>OK</td>\n",
       "    </tr>\n",
       "    <tr>\n",
       "      <th>8</th>\n",
       "      <td>USO</td>\n",
       "      <td>[0.20927749991047487, 0.0829212288923268, 0.00...</td>\n",
       "      <td>[0.2092774999104966, 0.08292122889232915, 0.00...</td>\n",
       "      <td>True</td>\n",
       "      <td>OK</td>\n",
       "    </tr>\n",
       "    <tr>\n",
       "      <th>9</th>\n",
       "      <td>VNQ</td>\n",
       "      <td>[0.17926207329179814, 0.34313556973865256, 0.2...</td>\n",
       "      <td>[0.17926207329181698, 0.3431355697386802, 0.21...</td>\n",
       "      <td>False</td>\n",
       "      <td>OK</td>\n",
       "    </tr>\n",
       "    <tr>\n",
       "      <th>10</th>\n",
       "      <td>GSG</td>\n",
       "      <td>[0.18787965656384636, 0.10523531683159322, 0.0...</td>\n",
       "      <td>[0.18787965656383648, 0.10523531683159322, 0.0...</td>\n",
       "      <td>True</td>\n",
       "      <td>OK</td>\n",
       "    </tr>\n",
       "    <tr>\n",
       "      <th>11</th>\n",
       "      <td>HYG</td>\n",
       "      <td>[0.18546279468723456, 0.35668752865601155, 0.0...</td>\n",
       "      <td>[0.1854627946872346, 0.3566875286559686, 0.096...</td>\n",
       "      <td>False</td>\n",
       "      <td>OK</td>\n",
       "    </tr>\n",
       "  </tbody>\n",
       "</table>\n",
       "</div>"
      ],
      "text/plain": [
       "   Ticker                                 P_Values_SSR_FTest  \\\n",
       "0     SPY  [0.009469397789730443, 0.029746830221818635, 0...   \n",
       "1     QQQ  [0.015753121449946648, 0.03915276260261943, 0....   \n",
       "2     IWM  [0.01941064860626488, 0.04691623882981676, 0.0...   \n",
       "3     EFA  [0.18671069402501675, 0.16951615964589445, 0.0...   \n",
       "4     EEM  [0.1434437682856982, 0.13416287325163578, 0.17...   \n",
       "5     AGG  [0.723537149127891, 0.9142528387088306, 0.9519...   \n",
       "6     TLT  [0.32678329593264155, 0.5000096637693492, 0.70...   \n",
       "7     GLD  [0.862188980111933, 0.873769564354826, 0.95168...   \n",
       "8     USO  [0.20927749991047487, 0.0829212288923268, 0.00...   \n",
       "9     VNQ  [0.17926207329179814, 0.34313556973865256, 0.2...   \n",
       "10    GSG  [0.18787965656384636, 0.10523531683159322, 0.0...   \n",
       "11    HYG  [0.18546279468723456, 0.35668752865601155, 0.0...   \n",
       "\n",
       "                                P_Values_Params_FTest  Is_Granger_Caused  \\\n",
       "0   [0.009469397789730577, 0.029746830221817233, 0...               True   \n",
       "1   [0.015753121449946648, 0.03915276260262027, 0....               True   \n",
       "2   [0.019410648606263802, 0.04691623882981801, 0....               True   \n",
       "3   [0.18671069402501675, 0.16951615964588906, 0.0...              False   \n",
       "4   [0.143443768285711, 0.13416287325163578, 0.173...              False   \n",
       "5   [0.7235371491277186, 0.914252838708886, 0.9519...              False   \n",
       "6   [0.3267832959326519, 0.500009663769309, 0.7031...              False   \n",
       "7   [0.862188980112025, 0.8737695643547729, 0.9516...              False   \n",
       "8   [0.2092774999104966, 0.08292122889232915, 0.00...               True   \n",
       "9   [0.17926207329181698, 0.3431355697386802, 0.21...              False   \n",
       "10  [0.18787965656383648, 0.10523531683159322, 0.0...               True   \n",
       "11  [0.1854627946872346, 0.3566875286559686, 0.096...              False   \n",
       "\n",
       "   Status  \n",
       "0      OK  \n",
       "1      OK  \n",
       "2      OK  \n",
       "3      OK  \n",
       "4      OK  \n",
       "5      OK  \n",
       "6      OK  \n",
       "7      OK  \n",
       "8      OK  \n",
       "9      OK  \n",
       "10     OK  \n",
       "11     OK  "
      ]
     },
     "execution_count": 30,
     "metadata": {},
     "output_type": "execute_result"
    }
   ],
   "source": [
    "granger_summary_df"
   ]
  },
  {
   "cell_type": "code",
   "execution_count": null,
   "id": "f1644871",
   "metadata": {},
   "outputs": [],
   "source": []
  }
 ],
 "metadata": {
  "kernelspec": {
   "display_name": "quant",
   "language": "python",
   "name": "python3"
  },
  "language_info": {
   "codemirror_mode": {
    "name": "ipython",
    "version": 3
   },
   "file_extension": ".py",
   "mimetype": "text/x-python",
   "name": "python",
   "nbconvert_exporter": "python",
   "pygments_lexer": "ipython3",
   "version": "3.12.7"
  }
 },
 "nbformat": 4,
 "nbformat_minor": 5
}
