{
 "cells": [
  {
   "cell_type": "code",
   "id": "initial_id",
   "metadata": {
    "collapsed": true,
    "ExecuteTime": {
     "end_time": "2025-05-05T19:40:33.551971Z",
     "start_time": "2025-05-05T19:40:33.547709Z"
    }
   },
   "source": [
    "import pandas as pd\n",
    "filepath = \"Assignment_2_data.xlsm\""
   ],
   "outputs": [],
   "execution_count": 3
  },
  {
   "metadata": {
    "ExecuteTime": {
     "end_time": "2025-05-05T19:41:37.437400Z",
     "start_time": "2025-05-05T19:41:36.521001Z"
    }
   },
   "cell_type": "code",
   "source": "spx = pd.read_excel(filepath, sheet_name='SPTX', index_col=0)",
   "id": "fbc1bfd5a39fc462",
   "outputs": [],
   "execution_count": 11
  },
  {
   "metadata": {
    "ExecuteTime": {
     "end_time": "2025-05-05T19:41:51.822756Z",
     "start_time": "2025-05-05T19:41:50.977525Z"
    }
   },
   "cell_type": "code",
   "source": "ff = pd.read_excel(filepath, sheet_name='FF', index_col=0)",
   "id": "3acaaf69576d4c02",
   "outputs": [],
   "execution_count": 13
  },
  {
   "metadata": {
    "ExecuteTime": {
     "end_time": "2025-05-05T19:41:58.587873Z",
     "start_time": "2025-05-05T19:41:57.777393Z"
    }
   },
   "cell_type": "code",
   "source": "ism = pd.read_excel(filepath, sheet_name='ISM', index_col=0)",
   "id": "10f62fd708470e2d",
   "outputs": [],
   "execution_count": 14
  },
  {
   "metadata": {
    "ExecuteTime": {
     "end_time": "2025-05-05T20:13:14.204383Z",
     "start_time": "2025-05-05T20:13:13.233622Z"
    }
   },
   "cell_type": "code",
   "source": "ois_6m = pd.read_excel(filepath, sheet_name='OIS', index_col=0).iloc[:, 0:1].dropna()",
   "id": "3cba204d13745485",
   "outputs": [],
   "execution_count": 93
  },
  {
   "metadata": {
    "ExecuteTime": {
     "end_time": "2025-05-05T20:13:15.130292Z",
     "start_time": "2025-05-05T20:13:14.207215Z"
    }
   },
   "cell_type": "code",
   "source": "ois_1y = pd.read_excel(filepath, sheet_name='OIS', index_col=2).iloc[:, 2].dropna()",
   "id": "6e75456655f2d536",
   "outputs": [],
   "execution_count": 94
  },
  {
   "metadata": {
    "ExecuteTime": {
     "end_time": "2025-05-05T20:13:05.422140Z",
     "start_time": "2025-05-05T20:13:04.373781Z"
    }
   },
   "cell_type": "code",
   "source": "ois_2y = pd.read_excel(filepath, sheet_name='OIS', index_col=4).iloc[:, 4].dropna()",
   "id": "c34546c25c8c0e47",
   "outputs": [],
   "execution_count": 92
  }
 ],
 "metadata": {
  "kernelspec": {
   "display_name": "Python 3",
   "language": "python",
   "name": "python3"
  },
  "language_info": {
   "codemirror_mode": {
    "name": "ipython",
    "version": 2
   },
   "file_extension": ".py",
   "mimetype": "text/x-python",
   "name": "python",
   "nbconvert_exporter": "python",
   "pygments_lexer": "ipython2",
   "version": "2.7.6"
  }
 },
 "nbformat": 4,
 "nbformat_minor": 5
}
